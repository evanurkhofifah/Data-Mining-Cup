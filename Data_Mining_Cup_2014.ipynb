{
  "cells": [
    {
      "cell_type": "markdown",
      "source": [
        "## Data Mining Cup 2014"
      ],
      "metadata": {
        "id": "jW9KK4BhtGIh"
      }
    },
    {
      "cell_type": "markdown",
      "source": [
        "### Import Library"
      ],
      "metadata": {
        "id": "R_woYquWtRsP"
      }
    },
    {
      "cell_type": "code",
      "execution_count": 1,
      "metadata": {
        "id": "Z4Ovbsig7ldP"
      },
      "outputs": [],
      "source": [
        "%matplotlib inline\n",
        "import numpy as np\n",
        "import pandas as pd\n",
        "import matplotlib.pyplot as plt\n",
        "import seaborn as sns\n",
        "import os, glob"
      ]
    },
    {
      "cell_type": "markdown",
      "source": [
        "Data historis berisi data pembelian dan pengiriman toko online 2014.\n",
        "\n",
        "##### Atribut\n",
        "- orderItemID: Nomor barang pesanan\n",
        "- orderDate: Tanggal pemesanan\n",
        "- deliveryDate : Tanggal pesanan dikirim\n",
        "- itemID: ID barang\n",
        "- size: Ukuran barang\n",
        "- color: Warna barang\n",
        "- manufacturerID: ID manufaktur/pabrik\n",
        "- price: Harga barang\n",
        "- customerID: ID pelanggan\n",
        "- salutation: Salutation pelanggan\n",
        "- dateOfBirth: Tanggal lahir pelanggan\n",
        "- state: Negara pelanggan\n",
        "- creationDate: Tanggal pembuatan akun\n",
        "\n",
        "##### Atribut Keluaran\n",
        "- returnShipment: Pengembalian (1=ya/dikembalikan, 0=tidak/disimpan)\n",
        "  - Memprediksi apakah ada pengembalian barang pada pembelian berdasarkan data pembelian baru toko tersebut. Atribut target \"returnShipment\" dari item pesanan. Nilai \"0\" berarti \"barang disimpan\" dan nilai \"1\" berarti \"barang dikembalikan\"."
      ],
      "metadata": {
        "id": "L6wmVBqEtfeP"
      }
    },
    {
      "cell_type": "code",
      "execution_count": 2,
      "metadata": {
        "colab": {
          "base_uri": "https://localhost:8080/",
          "height": 73,
          "resources": {
            "http://localhost:8080/nbextensions/google.colab/files.js": {
              "data": "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",
              "headers": [
                [
                  "content-type",
                  "application/javascript"
                ]
              ],
              "ok": true,
              "status": 200,
              "status_text": ""
            }
          }
        },
        "id": "4XFKyCEB8uqJ",
        "outputId": "5980d163-5aec-419f-9743-0dd1128a570a"
      },
      "outputs": [
        {
          "output_type": "display_data",
          "data": {
            "text/plain": [
              "<IPython.core.display.HTML object>"
            ],
            "text/html": [
              "\n",
              "     <input type=\"file\" id=\"files-472a19d9-6101-4380-a0bc-102ac264c0dd\" name=\"files[]\" multiple disabled\n",
              "        style=\"border:none\" />\n",
              "     <output id=\"result-472a19d9-6101-4380-a0bc-102ac264c0dd\">\n",
              "      Upload widget is only available when the cell has been executed in the\n",
              "      current browser session. Please rerun this cell to enable.\n",
              "      </output>\n",
              "      <script src=\"/nbextensions/google.colab/files.js\"></script> "
            ]
          },
          "metadata": {}
        },
        {
          "output_type": "stream",
          "name": "stdout",
          "text": [
            "Saving dmc2010_train.txt to dmc2010_train.txt\n"
          ]
        }
      ],
      "source": [
        "#upload file\n",
        "from google.colab import files\n",
        "data_to_load = files.upload()"
      ]
    },
    {
      "cell_type": "code",
      "execution_count": 3,
      "metadata": {
        "id": "0VvJDyf88lOw"
      },
      "outputs": [],
      "source": [
        "#load dataset\n",
        "df = pd.read_csv('orders_train.txt', sep=';', na_values=[\"?\"])"
      ]
    },
    {
      "cell_type": "markdown",
      "source": [
        "### Eksplorasi Data"
      ],
      "metadata": {
        "id": "jF8E3BzLuCjF"
      }
    },
    {
      "cell_type": "code",
      "execution_count": 4,
      "metadata": {
        "id": "kCnc0Yec_qow",
        "colab": {
          "base_uri": "https://localhost:8080/"
        },
        "outputId": "6f236fa2-d00a-4ebf-c5f6-1fb6329431a6"
      },
      "outputs": [
        {
          "output_type": "execute_result",
          "data": {
            "text/plain": [
              "(481092, 14)"
            ]
          },
          "metadata": {},
          "execution_count": 4
        }
      ],
      "source": [
        "#Menampilkan dimensi dataset\n",
        "df.shape"
      ]
    },
    {
      "cell_type": "code",
      "execution_count": 5,
      "metadata": {
        "id": "NQcXeIJN_rnU",
        "colab": {
          "base_uri": "https://localhost:8080/",
          "height": 357
        },
        "outputId": "624d5cac-6303-431d-8ef4-d6bb10ab34d7"
      },
      "outputs": [
        {
          "output_type": "execute_result",
          "data": {
            "text/plain": [
              "   orderItemID   orderDate deliveryDate  itemID size  color  manufacturerID  \\\n",
              "0            1  2012-04-01   2012-04-03     186    m  denim              25   \n",
              "1            2  2012-04-01   2012-04-03      71   9+  ocher              21   \n",
              "2            3  2012-04-01   2012-04-03      71   9+  curry              21   \n",
              "3            4  2012-04-02          NaN      22    m  green              14   \n",
              "4            5  2012-04-02   1990-12-31     151   39  black              53   \n",
              "\n",
              "   price  customerID salutation dateOfBirth                 state  \\\n",
              "0  69.90         794        Mrs  1965-01-06    Baden-Wuerttemberg   \n",
              "1  69.95         794        Mrs  1965-01-06    Baden-Wuerttemberg   \n",
              "2  69.95         794        Mrs  1965-01-06    Baden-Wuerttemberg   \n",
              "3  39.90         808        Mrs  1959-11-09                Saxony   \n",
              "4  29.90         825        Mrs  1964-07-11  Rhineland-Palatinate   \n",
              "\n",
              "  creationDate  returnShipment  \n",
              "0   2011-04-25               0  \n",
              "1   2011-04-25               1  \n",
              "2   2011-04-25               1  \n",
              "3   2012-01-04               0  \n",
              "4   2011-02-16               0  "
            ],
            "text/html": [
              "\n",
              "  <div id=\"df-834e4240-a3b4-442d-8f28-c6cd9f1b64ee\">\n",
              "    <div class=\"colab-df-container\">\n",
              "      <div>\n",
              "<style scoped>\n",
              "    .dataframe tbody tr th:only-of-type {\n",
              "        vertical-align: middle;\n",
              "    }\n",
              "\n",
              "    .dataframe tbody tr th {\n",
              "        vertical-align: top;\n",
              "    }\n",
              "\n",
              "    .dataframe thead th {\n",
              "        text-align: right;\n",
              "    }\n",
              "</style>\n",
              "<table border=\"1\" class=\"dataframe\">\n",
              "  <thead>\n",
              "    <tr style=\"text-align: right;\">\n",
              "      <th></th>\n",
              "      <th>orderItemID</th>\n",
              "      <th>orderDate</th>\n",
              "      <th>deliveryDate</th>\n",
              "      <th>itemID</th>\n",
              "      <th>size</th>\n",
              "      <th>color</th>\n",
              "      <th>manufacturerID</th>\n",
              "      <th>price</th>\n",
              "      <th>customerID</th>\n",
              "      <th>salutation</th>\n",
              "      <th>dateOfBirth</th>\n",
              "      <th>state</th>\n",
              "      <th>creationDate</th>\n",
              "      <th>returnShipment</th>\n",
              "    </tr>\n",
              "  </thead>\n",
              "  <tbody>\n",
              "    <tr>\n",
              "      <th>0</th>\n",
              "      <td>1</td>\n",
              "      <td>2012-04-01</td>\n",
              "      <td>2012-04-03</td>\n",
              "      <td>186</td>\n",
              "      <td>m</td>\n",
              "      <td>denim</td>\n",
              "      <td>25</td>\n",
              "      <td>69.90</td>\n",
              "      <td>794</td>\n",
              "      <td>Mrs</td>\n",
              "      <td>1965-01-06</td>\n",
              "      <td>Baden-Wuerttemberg</td>\n",
              "      <td>2011-04-25</td>\n",
              "      <td>0</td>\n",
              "    </tr>\n",
              "    <tr>\n",
              "      <th>1</th>\n",
              "      <td>2</td>\n",
              "      <td>2012-04-01</td>\n",
              "      <td>2012-04-03</td>\n",
              "      <td>71</td>\n",
              "      <td>9+</td>\n",
              "      <td>ocher</td>\n",
              "      <td>21</td>\n",
              "      <td>69.95</td>\n",
              "      <td>794</td>\n",
              "      <td>Mrs</td>\n",
              "      <td>1965-01-06</td>\n",
              "      <td>Baden-Wuerttemberg</td>\n",
              "      <td>2011-04-25</td>\n",
              "      <td>1</td>\n",
              "    </tr>\n",
              "    <tr>\n",
              "      <th>2</th>\n",
              "      <td>3</td>\n",
              "      <td>2012-04-01</td>\n",
              "      <td>2012-04-03</td>\n",
              "      <td>71</td>\n",
              "      <td>9+</td>\n",
              "      <td>curry</td>\n",
              "      <td>21</td>\n",
              "      <td>69.95</td>\n",
              "      <td>794</td>\n",
              "      <td>Mrs</td>\n",
              "      <td>1965-01-06</td>\n",
              "      <td>Baden-Wuerttemberg</td>\n",
              "      <td>2011-04-25</td>\n",
              "      <td>1</td>\n",
              "    </tr>\n",
              "    <tr>\n",
              "      <th>3</th>\n",
              "      <td>4</td>\n",
              "      <td>2012-04-02</td>\n",
              "      <td>NaN</td>\n",
              "      <td>22</td>\n",
              "      <td>m</td>\n",
              "      <td>green</td>\n",
              "      <td>14</td>\n",
              "      <td>39.90</td>\n",
              "      <td>808</td>\n",
              "      <td>Mrs</td>\n",
              "      <td>1959-11-09</td>\n",
              "      <td>Saxony</td>\n",
              "      <td>2012-01-04</td>\n",
              "      <td>0</td>\n",
              "    </tr>\n",
              "    <tr>\n",
              "      <th>4</th>\n",
              "      <td>5</td>\n",
              "      <td>2012-04-02</td>\n",
              "      <td>1990-12-31</td>\n",
              "      <td>151</td>\n",
              "      <td>39</td>\n",
              "      <td>black</td>\n",
              "      <td>53</td>\n",
              "      <td>29.90</td>\n",
              "      <td>825</td>\n",
              "      <td>Mrs</td>\n",
              "      <td>1964-07-11</td>\n",
              "      <td>Rhineland-Palatinate</td>\n",
              "      <td>2011-02-16</td>\n",
              "      <td>0</td>\n",
              "    </tr>\n",
              "  </tbody>\n",
              "</table>\n",
              "</div>\n",
              "      <button class=\"colab-df-convert\" onclick=\"convertToInteractive('df-834e4240-a3b4-442d-8f28-c6cd9f1b64ee')\"\n",
              "              title=\"Convert this dataframe to an interactive table.\"\n",
              "              style=\"display:none;\">\n",
              "        \n",
              "  <svg xmlns=\"http://www.w3.org/2000/svg\" height=\"24px\"viewBox=\"0 0 24 24\"\n",
              "       width=\"24px\">\n",
              "    <path d=\"M0 0h24v24H0V0z\" fill=\"none\"/>\n",
              "    <path d=\"M18.56 5.44l.94 2.06.94-2.06 2.06-.94-2.06-.94-.94-2.06-.94 2.06-2.06.94zm-11 1L8.5 8.5l.94-2.06 2.06-.94-2.06-.94L8.5 2.5l-.94 2.06-2.06.94zm10 10l.94 2.06.94-2.06 2.06-.94-2.06-.94-.94-2.06-.94 2.06-2.06.94z\"/><path d=\"M17.41 7.96l-1.37-1.37c-.4-.4-.92-.59-1.43-.59-.52 0-1.04.2-1.43.59L10.3 9.45l-7.72 7.72c-.78.78-.78 2.05 0 2.83L4 21.41c.39.39.9.59 1.41.59.51 0 1.02-.2 1.41-.59l7.78-7.78 2.81-2.81c.8-.78.8-2.07 0-2.86zM5.41 20L4 18.59l7.72-7.72 1.47 1.35L5.41 20z\"/>\n",
              "  </svg>\n",
              "      </button>\n",
              "      \n",
              "  <style>\n",
              "    .colab-df-container {\n",
              "      display:flex;\n",
              "      flex-wrap:wrap;\n",
              "      gap: 12px;\n",
              "    }\n",
              "\n",
              "    .colab-df-convert {\n",
              "      background-color: #E8F0FE;\n",
              "      border: none;\n",
              "      border-radius: 50%;\n",
              "      cursor: pointer;\n",
              "      display: none;\n",
              "      fill: #1967D2;\n",
              "      height: 32px;\n",
              "      padding: 0 0 0 0;\n",
              "      width: 32px;\n",
              "    }\n",
              "\n",
              "    .colab-df-convert:hover {\n",
              "      background-color: #E2EBFA;\n",
              "      box-shadow: 0px 1px 2px rgba(60, 64, 67, 0.3), 0px 1px 3px 1px rgba(60, 64, 67, 0.15);\n",
              "      fill: #174EA6;\n",
              "    }\n",
              "\n",
              "    [theme=dark] .colab-df-convert {\n",
              "      background-color: #3B4455;\n",
              "      fill: #D2E3FC;\n",
              "    }\n",
              "\n",
              "    [theme=dark] .colab-df-convert:hover {\n",
              "      background-color: #434B5C;\n",
              "      box-shadow: 0px 1px 3px 1px rgba(0, 0, 0, 0.15);\n",
              "      filter: drop-shadow(0px 1px 2px rgba(0, 0, 0, 0.3));\n",
              "      fill: #FFFFFF;\n",
              "    }\n",
              "  </style>\n",
              "\n",
              "      <script>\n",
              "        const buttonEl =\n",
              "          document.querySelector('#df-834e4240-a3b4-442d-8f28-c6cd9f1b64ee button.colab-df-convert');\n",
              "        buttonEl.style.display =\n",
              "          google.colab.kernel.accessAllowed ? 'block' : 'none';\n",
              "\n",
              "        async function convertToInteractive(key) {\n",
              "          const element = document.querySelector('#df-834e4240-a3b4-442d-8f28-c6cd9f1b64ee');\n",
              "          const dataTable =\n",
              "            await google.colab.kernel.invokeFunction('convertToInteractive',\n",
              "                                                     [key], {});\n",
              "          if (!dataTable) return;\n",
              "\n",
              "          const docLinkHtml = 'Like what you see? Visit the ' +\n",
              "            '<a target=\"_blank\" href=https://colab.research.google.com/notebooks/data_table.ipynb>data table notebook</a>'\n",
              "            + ' to learn more about interactive tables.';\n",
              "          element.innerHTML = '';\n",
              "          dataTable['output_type'] = 'display_data';\n",
              "          await google.colab.output.renderOutput(dataTable, element);\n",
              "          const docLink = document.createElement('div');\n",
              "          docLink.innerHTML = docLinkHtml;\n",
              "          element.appendChild(docLink);\n",
              "        }\n",
              "      </script>\n",
              "    </div>\n",
              "  </div>\n",
              "  "
            ]
          },
          "metadata": {},
          "execution_count": 5
        }
      ],
      "source": [
        "#Menampilkan dataset\n",
        "df.head()"
      ]
    },
    {
      "cell_type": "code",
      "execution_count": 6,
      "metadata": {
        "id": "JbXuRk8k_t7S",
        "colab": {
          "base_uri": "https://localhost:8080/"
        },
        "outputId": "d335339f-d74b-449f-9207-60665b759b44"
      },
      "outputs": [
        {
          "output_type": "stream",
          "name": "stdout",
          "text": [
            "<class 'pandas.core.frame.DataFrame'>\n",
            "RangeIndex: 481092 entries, 0 to 481091\n",
            "Data columns (total 14 columns):\n",
            " #   Column          Non-Null Count   Dtype  \n",
            "---  ------          --------------   -----  \n",
            " 0   orderItemID     481092 non-null  int64  \n",
            " 1   orderDate       481092 non-null  object \n",
            " 2   deliveryDate    441673 non-null  object \n",
            " 3   itemID          481092 non-null  int64  \n",
            " 4   size            481092 non-null  object \n",
            " 5   color           480949 non-null  object \n",
            " 6   manufacturerID  481092 non-null  int64  \n",
            " 7   price           481092 non-null  float64\n",
            " 8   customerID      481092 non-null  int64  \n",
            " 9   salutation      481092 non-null  object \n",
            " 10  dateOfBirth     432203 non-null  object \n",
            " 11  state           481092 non-null  object \n",
            " 12  creationDate    481092 non-null  object \n",
            " 13  returnShipment  481092 non-null  int64  \n",
            "dtypes: float64(1), int64(5), object(8)\n",
            "memory usage: 51.4+ MB\n"
          ]
        }
      ],
      "source": [
        "#Menampilkan atribut dan tipe data\n",
        "df.info()"
      ]
    },
    {
      "cell_type": "markdown",
      "source": [
        "*Dari detail info di atas terdapat 481092 data entri dengan 14 atribut 6 tipe data numerical dan 8 object.*"
      ],
      "metadata": {
        "id": "U3UtK6hnuO2L"
      }
    },
    {
      "cell_type": "code",
      "execution_count": 7,
      "metadata": {
        "id": "9WliuI-K_yiH",
        "colab": {
          "base_uri": "https://localhost:8080/"
        },
        "outputId": "67e6664b-3445-4558-b4ab-a2eb6e66aaa2"
      },
      "outputs": [
        {
          "output_type": "execute_result",
          "data": {
            "text/plain": [
              "orderItemID           0\n",
              "orderDate             0\n",
              "deliveryDate      39419\n",
              "itemID                0\n",
              "size                  0\n",
              "color               143\n",
              "manufacturerID        0\n",
              "price                 0\n",
              "customerID            0\n",
              "salutation            0\n",
              "dateOfBirth       48889\n",
              "state                 0\n",
              "creationDate          0\n",
              "returnShipment        0\n",
              "dtype: int64"
            ]
          },
          "metadata": {},
          "execution_count": 7
        }
      ],
      "source": [
        "#cek data kosong\n",
        "df.isnull().sum()"
      ]
    },
    {
      "cell_type": "markdown",
      "source": [
        "*Terdapat 3 atribut yang memiliki data kosong yaitu atribut deliveryDate, color, dan dateOfBirth*"
      ],
      "metadata": {
        "id": "bgUZjAz7uUQa"
      }
    },
    {
      "cell_type": "code",
      "execution_count": 8,
      "metadata": {
        "id": "7QpXdNXn_2Sp",
        "colab": {
          "base_uri": "https://localhost:8080/",
          "height": 351
        },
        "outputId": "b5d9a2c8-6060-4e26-8567-1a034bc7e0d2"
      },
      "outputs": [
        {
          "output_type": "execute_result",
          "data": {
            "text/plain": [
              "<matplotlib.axes._subplots.AxesSubplot at 0x7efcdde2bad0>"
            ]
          },
          "metadata": {},
          "execution_count": 8
        },
        {
          "output_type": "display_data",
          "data": {
            "text/plain": [
              "<Figure size 432x288 with 1 Axes>"
            ],
            "image/png": "[encoded data removed]"
          },
          "metadata": {
            "needs_background": "light"
          }
        }
      ],
      "source": [
        "#visualisasi data kosong\n",
        "sns.heatmap(df.isnull(), yticklabels=False, cbar=False, cmap='inferno')"
      ]
    },
    {
      "cell_type": "code",
      "execution_count": 9,
      "metadata": {
        "id": "uj0CCoce_45h",
        "colab": {
          "base_uri": "https://localhost:8080/"
        },
        "outputId": "4976208e-5a64-47db-da6e-98725845a799"
      },
      "outputs": [
        {
          "output_type": "stream",
          "name": "stdout",
          "text": [
            "deliveryDate 8.1937 %\n",
            "color 0.0297 %\n",
            "dateOfBirth 10.1621 %\n"
          ]
        }
      ],
      "source": [
        "#melihat persentase data kosong\n",
        "df_na = [a for a in df.columns if df[a].isna().sum()>0]\n",
        "for a in df_na:\n",
        "    print(a, np.round(df[a].isna().mean()*100,4), '%')"
      ]
    },
    {
      "cell_type": "markdown",
      "source": [
        "*Dari pengecekan data kosong di atas, data tanggal lahir (dateOfBirth) paling banyak memiliki data kosong sebanyak 48889 atau 10%, kemudian diikuti oleh data tanggal pengiriman (deliveryDate) dan data color.*"
      ],
      "metadata": {
        "id": "XnFlAF1fuisR"
      }
    },
    {
      "cell_type": "code",
      "execution_count": 10,
      "metadata": {
        "id": "M-t1MXElAGiD",
        "colab": {
          "base_uri": "https://localhost:8080/",
          "height": 851
        },
        "outputId": "70a5b996-a7c0-4989-8fe9-2d103dd439a0"
      },
      "outputs": [
        {
          "output_type": "display_data",
          "data": {
            "text/plain": [
              "<Figure size 432x288 with 1 Axes>"
            ],
            "image/png": "[encoded data removed]"
          },
          "metadata": {
            "needs_background": "light"
          }
        },
        {
          "output_type": "display_data",
          "data": {
            "text/plain": [
              "<Figure size 432x288 with 1 Axes>"
            ],
            "image/png": "[encoded data removed]"
          },
          "metadata": {
            "needs_background": "light"
          }
        },
        {
          "output_type": "display_data",
          "data": {
            "text/plain": [
              "<Figure size 432x288 with 1 Axes>"
            ],
            "image/png": "[encoded data removed]"
          },
          "metadata": {
            "needs_background": "light"
          }
        }
      ],
      "source": [
        "#visualisasi perngaruh nilai/data kosong terhadap data returnShipemnt(pengembalian atau tidak)\n",
        "data = df.copy()\n",
        "for a in df_na:\n",
        "    data_na = data.copy()\n",
        "    data_na[a] = np.where(data_na[a].isna(),0,1)\n",
        "    sns.countplot(x='returnShipment',hue = a ,data = data_na)\n",
        "    plt.title(a)\n",
        "    plt.show()"
      ]
    },
    {
      "cell_type": "markdown",
      "source": [
        "*Visualisasi di atas menunjukan bahwa atribut returnShipment memiliki value terhadap data kosong yang dapat menunjukan bahwa atribut returnShipent dapat dipengaruhi oleh atribut-atribut tersebut.*"
      ],
      "metadata": {
        "id": "SSuXbv_zvJX8"
      }
    },
    {
      "cell_type": "markdown",
      "source": [
        "### Menangani Data Kosong"
      ],
      "metadata": {
        "id": "8qPLKFGAvfwh"
      }
    },
    {
      "cell_type": "markdown",
      "source": [
        "*3 atribut yang memiliki data kosong yaitu atribut deliveryDate, color, dan dateOfBirth. Penanganan data kosong pada atribut color diisi dengan color yang paling banyak digunakan atau menggunakan modus. Pada atribut deliveryDate dan dateOfBirth karena tipe data 2 atribut tersebut object, maka sebelum penanganan data kosong melakukan konversi tipe data terlebih dahulu dari tipe object ke tipe datetime. Kemudian untuk penanganan data kosongnya dengan melihat terlebih dahulu data tanggal tertinggi (terakhir) dan terendah (terawal). Untuk atribut deliveryDate diisi dengan data tertinggi (max) sedangkan atribut dateOfBirth diisi dengan data terendah (min).*"
      ],
      "metadata": {
        "id": "gROYYoYFvv-t"
      }
    },
    {
      "cell_type": "code",
      "execution_count": 11,
      "metadata": {
        "id": "CfJmID6hAIxa"
      },
      "outputs": [],
      "source": [
        "#Menangani data kosong pada atribut color\n",
        "#Isi data kosong atribut color dengan warna yang paling banyak digunakan (menggunakan modus)\n",
        "df.color.fillna(df.color.mode()[0], inplace=True)"
      ]
    },
    {
      "cell_type": "code",
      "execution_count": 12,
      "metadata": {
        "id": "iXHkLacgAV5B",
        "colab": {
          "base_uri": "https://localhost:8080/"
        },
        "outputId": "5a2917ee-0cd4-43f4-acd8-7c4c1d2e7795"
      },
      "outputs": [
        {
          "output_type": "execute_result",
          "data": {
            "text/plain": [
              "orderItemID           0\n",
              "orderDate             0\n",
              "deliveryDate      39419\n",
              "itemID                0\n",
              "size                  0\n",
              "color                 0\n",
              "manufacturerID        0\n",
              "price                 0\n",
              "customerID            0\n",
              "salutation            0\n",
              "dateOfBirth       48889\n",
              "state                 0\n",
              "creationDate          0\n",
              "returnShipment        0\n",
              "dtype: int64"
            ]
          },
          "metadata": {},
          "execution_count": 12
        }
      ],
      "source": [
        "#cek data kosong kembali\n",
        "df.isnull().sum()"
      ]
    },
    {
      "cell_type": "markdown",
      "source": [
        "*Data color sudah terisi.*"
      ],
      "metadata": {
        "id": "jUU6Gb-BwMSo"
      }
    },
    {
      "cell_type": "code",
      "execution_count": 13,
      "metadata": {
        "id": "WX1PyEtJAYNE"
      },
      "outputs": [],
      "source": [
        "#Mengubah tipe data deliveryDate dan dateOfBirth dari tipe data objek ke tipe datatime\n",
        "#Mambahkan parameter errors untuk mengabaikan out-of-bound\n",
        "\n",
        "#Konversi data deliveryDate objek menjadi datetime\n",
        "df[\"deliveryDate\"] = pd.to_datetime(df[\"deliveryDate\"], format='%Y-%m-%d', errors = 'coerce')\n",
        "\n",
        "#Konversi data dateOfBirth objek menjadi datetime64\n",
        "df[\"dateOfBirth\"] = pd.to_datetime(df[\"dateOfBirth\"], format='%Y-%m-%d', errors = 'coerce')"
      ]
    },
    {
      "cell_type": "code",
      "execution_count": 14,
      "metadata": {
        "id": "JyoPc4ZHAbWJ",
        "colab": {
          "base_uri": "https://localhost:8080/"
        },
        "outputId": "cabeea41-97f5-44e0-b619-8ccef87063ed"
      },
      "outputs": [
        {
          "output_type": "stream",
          "name": "stdout",
          "text": [
            "<class 'pandas.core.frame.DataFrame'>\n",
            "RangeIndex: 481092 entries, 0 to 481091\n",
            "Data columns (total 14 columns):\n",
            " #   Column          Non-Null Count   Dtype         \n",
            "---  ------          --------------   -----         \n",
            " 0   orderItemID     481092 non-null  int64         \n",
            " 1   orderDate       481092 non-null  object        \n",
            " 2   deliveryDate    441673 non-null  datetime64[ns]\n",
            " 3   itemID          481092 non-null  int64         \n",
            " 4   size            481092 non-null  object        \n",
            " 5   color           481092 non-null  object        \n",
            " 6   manufacturerID  481092 non-null  int64         \n",
            " 7   price           481092 non-null  float64       \n",
            " 8   customerID      481092 non-null  int64         \n",
            " 9   salutation      481092 non-null  object        \n",
            " 10  dateOfBirth     432200 non-null  datetime64[ns]\n",
            " 11  state           481092 non-null  object        \n",
            " 12  creationDate    481092 non-null  object        \n",
            " 13  returnShipment  481092 non-null  int64         \n",
            "dtypes: datetime64[ns](2), float64(1), int64(5), object(6)\n",
            "memory usage: 51.4+ MB\n"
          ]
        }
      ],
      "source": [
        "#Cek tipe data\n",
        "df.info()"
      ]
    },
    {
      "cell_type": "markdown",
      "source": [
        "*Tipe data deliveryDate dan dateOfBirth sudah berubah menjadi tipe data datetime*"
      ],
      "metadata": {
        "id": "zWxxYCpLwRKw"
      }
    },
    {
      "cell_type": "code",
      "execution_count": 15,
      "metadata": {
        "id": "XIJbVQlUAehK",
        "colab": {
          "base_uri": "https://localhost:8080/"
        },
        "outputId": "62f8b1e4-8b54-46a0-e15c-9a42bd52dfca"
      },
      "outputs": [
        {
          "output_type": "stream",
          "name": "stdout",
          "text": [
            "Tanggal Maks deliveryDate : 2013-07-22 00:00:00 | Tanggal Min deliveryDate : 1990-12-31 00:00:00\n",
            "Tanggal Maks dateOfBirth : 2013-06-27 00:00:00 | Tanggal Min dateOfBirth : 1900-11-19 00:00:00\n"
          ]
        }
      ],
      "source": [
        "#Melihat nilai maks dan min tanggal pada atribut deliveryDate dan dateOfBirth yang masih memiliki nilai null\n",
        "print(\"Tanggal Maks deliveryDate :\", df.deliveryDate.max(), \"| Tanggal Min deliveryDate :\", df.deliveryDate.min())\n",
        "print(\"Tanggal Maks dateOfBirth :\", df.dateOfBirth.max(), \"| Tanggal Min dateOfBirth :\", df.dateOfBirth.min())"
      ]
    },
    {
      "cell_type": "code",
      "execution_count": 16,
      "metadata": {
        "id": "_V1UwssPAhBD"
      },
      "outputs": [],
      "source": [
        "#Mengisi data kosong deliveryDate dengan nilai maks pada data deliveryDate\n",
        "df[\"deliveryDate\"].fillna(pd.Timestamp('20130722'), inplace=True)\n",
        "\n",
        "#Mengisi data kosong dateofbirth dengan awal tanggal dan bulan tahun minimal pada data dateofbirth\n",
        "df[\"dateOfBirth\"].fillna(pd.Timestamp('19000101'), inplace=True)"
      ]
    },
    {
      "cell_type": "markdown",
      "source": [
        "*Karena tanggal/tahun terendah pada data deliveryDate 1990 maka untuk mengisi data kosong menggunakan tanggal maksimal karena tidak mungkin pesanan dikirim pada tahun tersebut. Sedangkan pada data dateofbirth diisi dengan tanggal minimal karena tidak mungkin yang memesan barang lahir di tahun terakhir/terbaru (2013).*"
      ],
      "metadata": {
        "id": "IZtMHiEzwXUP"
      }
    },
    {
      "cell_type": "code",
      "execution_count": 17,
      "metadata": {
        "id": "NPa545voAjnC",
        "colab": {
          "base_uri": "https://localhost:8080/"
        },
        "outputId": "9fa246eb-d051-4642-c4bc-34372a4837c9"
      },
      "outputs": [
        {
          "output_type": "execute_result",
          "data": {
            "text/plain": [
              "orderItemID       0\n",
              "orderDate         0\n",
              "deliveryDate      0\n",
              "itemID            0\n",
              "size              0\n",
              "color             0\n",
              "manufacturerID    0\n",
              "price             0\n",
              "customerID        0\n",
              "salutation        0\n",
              "dateOfBirth       0\n",
              "state             0\n",
              "creationDate      0\n",
              "returnShipment    0\n",
              "dtype: int64"
            ]
          },
          "metadata": {},
          "execution_count": 17
        }
      ],
      "source": [
        "#cek data kosong lagi\n",
        "df.isnull().sum()"
      ]
    },
    {
      "cell_type": "markdown",
      "source": [
        "*Sudah tidak terdapat nilai kosong lagi.*"
      ],
      "metadata": {
        "id": "B_9xHsIWwcJL"
      }
    },
    {
      "cell_type": "markdown",
      "source": [
        "#### Menangani data yang memiliki arti yang sama tetapi dikenali sebagai data yang berbeda"
      ],
      "metadata": {
        "id": "dL69gsNowil6"
      }
    },
    {
      "cell_type": "code",
      "execution_count": 18,
      "metadata": {
        "id": "IYPklEzcAldR",
        "colab": {
          "base_uri": "https://localhost:8080/",
          "height": 1000
        },
        "outputId": "8211bb28-ce4a-49cf-e5dd-40d8986bac0c"
      },
      "outputs": [
        {
          "output_type": "display_data",
          "data": {
            "text/plain": [
              "<Figure size 720x1440 with 1 Axes>"
            ],
            "image/png": "[encoded data removed]"
          },
          "metadata": {
            "needs_background": "light"
          }
        }
      ],
      "source": [
        "#visualisasi data size\n",
        "plt.figure(figsize = (10, 20))\n",
        "sns.countplot(y=\"size\", data=df, order = df[\"size\"].value_counts().index)\n",
        "plt.show()"
      ]
    },
    {
      "cell_type": "markdown",
      "source": [
        "*Dari visualisasi atribut 'size' di atas terdapat ukuran yang menggunakan huruf kecil dan huruf kapital misalnya ukuran m dan M yang merupakan jenis ukuran yang sama tetapi dikategorikan berbeda. Untuk mencegah hal tersebut saya mencoba mengubah semua ukuran yang menggunakan huruf kecil dengan huruf kapital agar terhitung sebagai kategori yang sama. Kemudian untuk ukuran yang memiliki karakter \"+\" akan dihapus, dibulatkan ke angka saja misal ukuran 9+ akan diubah menjadi 9 dengan asumsi hanya memiliki selisih sedikit.*"
      ],
      "metadata": {
        "id": "-mMebGRGwoBd"
      }
    },
    {
      "cell_type": "code",
      "execution_count": 19,
      "metadata": {
        "id": "rAzTdCjZAn-f"
      },
      "outputs": [],
      "source": [
        "#Mengubah isi data size yang ukurannya huruf kecil dengan huruf kapital agar terhitung menjadi jenis yang sama.\n",
        "df['size'] = df['size'].str.upper()"
      ]
    },
    {
      "cell_type": "code",
      "execution_count": 20,
      "metadata": {
        "id": "2RY0tBOQAsTB",
        "colab": {
          "base_uri": "https://localhost:8080/"
        },
        "outputId": "b6efc620-6c6d-4477-a0b7-78f015323f44"
      },
      "outputs": [
        {
          "output_type": "stream",
          "name": "stderr",
          "text": [
            "/usr/local/lib/python3.7/dist-packages/ipykernel_launcher.py:2: FutureWarning: The default value of regex will change from True to False in a future version. In addition, single character regular expressions will *not* be treated as literal strings when regex=True.\n",
            "  \n"
          ]
        }
      ],
      "source": [
        "#menghilangkan karakter \"+\"\n",
        "df['size'] = df['size'].str.replace('+', '')"
      ]
    },
    {
      "cell_type": "code",
      "execution_count": 21,
      "metadata": {
        "id": "FlBxWrgeAuNP",
        "colab": {
          "base_uri": "https://localhost:8080/",
          "height": 1000
        },
        "outputId": "1308ee0e-176d-464c-a9d0-45234d9202a0"
      },
      "outputs": [
        {
          "output_type": "display_data",
          "data": {
            "text/plain": [
              "<Figure size 720x1440 with 1 Axes>"
            ],
            "image/png": "[encoded data removed]"
          },
          "metadata": {
            "needs_background": "light"
          }
        }
      ],
      "source": [
        "#visualisasi data size setelah diubah\n",
        "plt.figure(figsize = (10, 20))\n",
        "sns.countplot(y=\"size\", data=df, order = df[\"size\"].value_counts().index)\n",
        "plt.show()"
      ]
    },
    {
      "cell_type": "markdown",
      "source": [
        "*Setelah atribut size ditangani dapat dilihat terdapat perbedaan data size di mana sebelum di tangani urutan 3 data size tertinggi yaitu l, xl dan 40. Setelah ditangani urutan 3 data size tertinggi yaitu L, XL, dan M. Dan terdapat beberapa perbedaan urutan tertinggi lainnya.*"
      ],
      "metadata": {
        "id": "zuarx85QwuBA"
      }
    },
    {
      "cell_type": "code",
      "execution_count": 22,
      "metadata": {
        "id": "32tL6XVkAwmx",
        "colab": {
          "base_uri": "https://localhost:8080/",
          "height": 206
        },
        "outputId": "4fa9565b-273d-4eed-fbe1-088b5e86ef1a"
      },
      "outputs": [
        {
          "output_type": "execute_result",
          "data": {
            "text/plain": [
              "    orderDate size  color salutation                 state creationDate\n",
              "0  2012-04-01    M  denim        Mrs    Baden-Wuerttemberg   2011-04-25\n",
              "1  2012-04-01    9  ocher        Mrs    Baden-Wuerttemberg   2011-04-25\n",
              "2  2012-04-01    9  curry        Mrs    Baden-Wuerttemberg   2011-04-25\n",
              "3  2012-04-02    M  green        Mrs                Saxony   2012-01-04\n",
              "4  2012-04-02   39  black        Mrs  Rhineland-Palatinate   2011-02-16"
            ],
            "text/html": [
              "\n",
              "  <div id=\"df-2b2e8414-a5f1-493f-b5c7-aac62d6e9134\">\n",
              "    <div class=\"colab-df-container\">\n",
              "      <div>\n",
              "<style scoped>\n",
              "    .dataframe tbody tr th:only-of-type {\n",
              "        vertical-align: middle;\n",
              "    }\n",
              "\n",
              "    .dataframe tbody tr th {\n",
              "        vertical-align: top;\n",
              "    }\n",
              "\n",
              "    .dataframe thead th {\n",
              "        text-align: right;\n",
              "    }\n",
              "</style>\n",
              "<table border=\"1\" class=\"dataframe\">\n",
              "  <thead>\n",
              "    <tr style=\"text-align: right;\">\n",
              "      <th></th>\n",
              "      <th>orderDate</th>\n",
              "      <th>size</th>\n",
              "      <th>color</th>\n",
              "      <th>salutation</th>\n",
              "      <th>state</th>\n",
              "      <th>creationDate</th>\n",
              "    </tr>\n",
              "  </thead>\n",
              "  <tbody>\n",
              "    <tr>\n",
              "      <th>0</th>\n",
              "      <td>2012-04-01</td>\n",
              "      <td>M</td>\n",
              "      <td>denim</td>\n",
              "      <td>Mrs</td>\n",
              "      <td>Baden-Wuerttemberg</td>\n",
              "      <td>2011-04-25</td>\n",
              "    </tr>\n",
              "    <tr>\n",
              "      <th>1</th>\n",
              "      <td>2012-04-01</td>\n",
              "      <td>9</td>\n",
              "      <td>ocher</td>\n",
              "      <td>Mrs</td>\n",
              "      <td>Baden-Wuerttemberg</td>\n",
              "      <td>2011-04-25</td>\n",
              "    </tr>\n",
              "    <tr>\n",
              "      <th>2</th>\n",
              "      <td>2012-04-01</td>\n",
              "      <td>9</td>\n",
              "      <td>curry</td>\n",
              "      <td>Mrs</td>\n",
              "      <td>Baden-Wuerttemberg</td>\n",
              "      <td>2011-04-25</td>\n",
              "    </tr>\n",
              "    <tr>\n",
              "      <th>3</th>\n",
              "      <td>2012-04-02</td>\n",
              "      <td>M</td>\n",
              "      <td>green</td>\n",
              "      <td>Mrs</td>\n",
              "      <td>Saxony</td>\n",
              "      <td>2012-01-04</td>\n",
              "    </tr>\n",
              "    <tr>\n",
              "      <th>4</th>\n",
              "      <td>2012-04-02</td>\n",
              "      <td>39</td>\n",
              "      <td>black</td>\n",
              "      <td>Mrs</td>\n",
              "      <td>Rhineland-Palatinate</td>\n",
              "      <td>2011-02-16</td>\n",
              "    </tr>\n",
              "  </tbody>\n",
              "</table>\n",
              "</div>\n",
              "      <button class=\"colab-df-convert\" onclick=\"convertToInteractive('df-2b2e8414-a5f1-493f-b5c7-aac62d6e9134')\"\n",
              "              title=\"Convert this dataframe to an interactive table.\"\n",
              "              style=\"display:none;\">\n",
              "        \n",
              "  <svg xmlns=\"http://www.w3.org/2000/svg\" height=\"24px\"viewBox=\"0 0 24 24\"\n",
              "       width=\"24px\">\n",
              "    <path d=\"M0 0h24v24H0V0z\" fill=\"none\"/>\n",
              "    <path d=\"M18.56 5.44l.94 2.06.94-2.06 2.06-.94-2.06-.94-.94-2.06-.94 2.06-2.06.94zm-11 1L8.5 8.5l.94-2.06 2.06-.94-2.06-.94L8.5 2.5l-.94 2.06-2.06.94zm10 10l.94 2.06.94-2.06 2.06-.94-2.06-.94-.94-2.06-.94 2.06-2.06.94z\"/><path d=\"M17.41 7.96l-1.37-1.37c-.4-.4-.92-.59-1.43-.59-.52 0-1.04.2-1.43.59L10.3 9.45l-7.72 7.72c-.78.78-.78 2.05 0 2.83L4 21.41c.39.39.9.59 1.41.59.51 0 1.02-.2 1.41-.59l7.78-7.78 2.81-2.81c.8-.78.8-2.07 0-2.86zM5.41 20L4 18.59l7.72-7.72 1.47 1.35L5.41 20z\"/>\n",
              "  </svg>\n",
              "      </button>\n",
              "      \n",
              "  <style>\n",
              "    .colab-df-container {\n",
              "      display:flex;\n",
              "      flex-wrap:wrap;\n",
              "      gap: 12px;\n",
              "    }\n",
              "\n",
              "    .colab-df-convert {\n",
              "      background-color: #E8F0FE;\n",
              "      border: none;\n",
              "      border-radius: 50%;\n",
              "      cursor: pointer;\n",
              "      display: none;\n",
              "      fill: #1967D2;\n",
              "      height: 32px;\n",
              "      padding: 0 0 0 0;\n",
              "      width: 32px;\n",
              "    }\n",
              "\n",
              "    .colab-df-convert:hover {\n",
              "      background-color: #E2EBFA;\n",
              "      box-shadow: 0px 1px 2px rgba(60, 64, 67, 0.3), 0px 1px 3px 1px rgba(60, 64, 67, 0.15);\n",
              "      fill: #174EA6;\n",
              "    }\n",
              "\n",
              "    [theme=dark] .colab-df-convert {\n",
              "      background-color: #3B4455;\n",
              "      fill: #D2E3FC;\n",
              "    }\n",
              "\n",
              "    [theme=dark] .colab-df-convert:hover {\n",
              "      background-color: #434B5C;\n",
              "      box-shadow: 0px 1px 3px 1px rgba(0, 0, 0, 0.15);\n",
              "      filter: drop-shadow(0px 1px 2px rgba(0, 0, 0, 0.3));\n",
              "      fill: #FFFFFF;\n",
              "    }\n",
              "  </style>\n",
              "\n",
              "      <script>\n",
              "        const buttonEl =\n",
              "          document.querySelector('#df-2b2e8414-a5f1-493f-b5c7-aac62d6e9134 button.colab-df-convert');\n",
              "        buttonEl.style.display =\n",
              "          google.colab.kernel.accessAllowed ? 'block' : 'none';\n",
              "\n",
              "        async function convertToInteractive(key) {\n",
              "          const element = document.querySelector('#df-2b2e8414-a5f1-493f-b5c7-aac62d6e9134');\n",
              "          const dataTable =\n",
              "            await google.colab.kernel.invokeFunction('convertToInteractive',\n",
              "                                                     [key], {});\n",
              "          if (!dataTable) return;\n",
              "\n",
              "          const docLinkHtml = 'Like what you see? Visit the ' +\n",
              "            '<a target=\"_blank\" href=https://colab.research.google.com/notebooks/data_table.ipynb>data table notebook</a>'\n",
              "            + ' to learn more about interactive tables.';\n",
              "          element.innerHTML = '';\n",
              "          dataTable['output_type'] = 'display_data';\n",
              "          await google.colab.output.renderOutput(dataTable, element);\n",
              "          const docLink = document.createElement('div');\n",
              "          docLink.innerHTML = docLinkHtml;\n",
              "          element.appendChild(docLink);\n",
              "        }\n",
              "      </script>\n",
              "    </div>\n",
              "  </div>\n",
              "  "
            ]
          },
          "metadata": {},
          "execution_count": 22
        }
      ],
      "source": [
        "#cek atribut dengan tipe data objek\n",
        "df_obj= df.select_dtypes(include = ['object'])\n",
        "df_obj.head()"
      ]
    },
    {
      "cell_type": "markdown",
      "source": [
        "#### Konversi data yang masih bertipe objek"
      ],
      "metadata": {
        "id": "xdnasygSwycv"
      }
    },
    {
      "cell_type": "markdown",
      "source": [
        "*Mengubah data bertipe objek menjadi data bertipe kategori, jika data objek berformat tanggal diubah menjadi tipe data datetime*"
      ],
      "metadata": {
        "id": "QmGXlWeuw3gS"
      }
    },
    {
      "cell_type": "code",
      "execution_count": 23,
      "metadata": {
        "id": "gMqBJ_y1A_zA"
      },
      "outputs": [],
      "source": [
        "#Konversi data tipe objek menjadi kategori\n",
        "#Mengubah type data objek selain format tanggal menjadi kategori\n",
        "kategori = ['size', 'color', 'salutation', 'state']\n",
        "#Looping untuk merubah type data'\n",
        "for column in kategori:\n",
        "    df[column] = df[column].astype('category')"
      ]
    },
    {
      "cell_type": "code",
      "execution_count": 24,
      "metadata": {
        "id": "ib5oNxozBCYI"
      },
      "outputs": [],
      "source": [
        "#Mengubah type data objek dengan format tanggal menjadi datetime\n",
        "\n",
        "#Konversi data atribut orderDate menjadi datetime\n",
        "df[\"orderDate\"] = df[\"orderDate\"].astype(\"datetime64[ns]\")\n",
        "\n",
        "#Konversi data atribut creationDate menjadi datetime\n",
        "df[\"creationDate\"] = df[\"creationDate\"].astype(\"datetime64[ns]\")"
      ]
    },
    {
      "cell_type": "code",
      "execution_count": 25,
      "metadata": {
        "id": "OJracTrcBErA",
        "colab": {
          "base_uri": "https://localhost:8080/"
        },
        "outputId": "d56b9eeb-25ba-4390-a6f1-01d24196d3f4"
      },
      "outputs": [
        {
          "output_type": "stream",
          "name": "stdout",
          "text": [
            "<class 'pandas.core.frame.DataFrame'>\n",
            "RangeIndex: 481092 entries, 0 to 481091\n",
            "Data columns (total 14 columns):\n",
            " #   Column          Non-Null Count   Dtype         \n",
            "---  ------          --------------   -----         \n",
            " 0   orderItemID     481092 non-null  int64         \n",
            " 1   orderDate       481092 non-null  datetime64[ns]\n",
            " 2   deliveryDate    481092 non-null  datetime64[ns]\n",
            " 3   itemID          481092 non-null  int64         \n",
            " 4   size            481092 non-null  category      \n",
            " 5   color           481092 non-null  category      \n",
            " 6   manufacturerID  481092 non-null  int64         \n",
            " 7   price           481092 non-null  float64       \n",
            " 8   customerID      481092 non-null  int64         \n",
            " 9   salutation      481092 non-null  category      \n",
            " 10  dateOfBirth     481092 non-null  datetime64[ns]\n",
            " 11  state           481092 non-null  category      \n",
            " 12  creationDate    481092 non-null  datetime64[ns]\n",
            " 13  returnShipment  481092 non-null  int64         \n",
            "dtypes: category(4), datetime64[ns](4), float64(1), int64(5)\n",
            "memory usage: 38.5 MB\n"
          ]
        }
      ],
      "source": [
        "#Cek tipe data\n",
        "df.info()"
      ]
    },
    {
      "cell_type": "markdown",
      "source": [
        "### Menangani Outlier"
      ],
      "metadata": {
        "id": "FhkFh96xxFyf"
      }
    },
    {
      "cell_type": "code",
      "execution_count": 26,
      "metadata": {
        "id": "04XwSWfOBIHu",
        "colab": {
          "base_uri": "https://localhost:8080/",
          "height": 300
        },
        "outputId": "2b74fb2f-4ef8-482b-adc0-bee7d4fabc21"
      },
      "outputs": [
        {
          "output_type": "execute_result",
          "data": {
            "text/plain": [
              "               price\n",
              "count  481092.000000\n",
              "mean       70.440229\n",
              "std        45.502854\n",
              "min         0.000000\n",
              "25%        34.900000\n",
              "50%        59.900000\n",
              "75%        89.900000\n",
              "max       999.000000"
            ],
            "text/html": [
              "\n",
              "  <div id=\"df-e74e397b-ae6f-4f17-9c16-e33f4c58f0e9\">\n",
              "    <div class=\"colab-df-container\">\n",
              "      <div>\n",
              "<style scoped>\n",
              "    .dataframe tbody tr th:only-of-type {\n",
              "        vertical-align: middle;\n",
              "    }\n",
              "\n",
              "    .dataframe tbody tr th {\n",
              "        vertical-align: top;\n",
              "    }\n",
              "\n",
              "    .dataframe thead th {\n",
              "        text-align: right;\n",
              "    }\n",
              "</style>\n",
              "<table border=\"1\" class=\"dataframe\">\n",
              "  <thead>\n",
              "    <tr style=\"text-align: right;\">\n",
              "      <th></th>\n",
              "      <th>price</th>\n",
              "    </tr>\n",
              "  </thead>\n",
              "  <tbody>\n",
              "    <tr>\n",
              "      <th>count</th>\n",
              "      <td>481092.000000</td>\n",
              "    </tr>\n",
              "    <tr>\n",
              "      <th>mean</th>\n",
              "      <td>70.440229</td>\n",
              "    </tr>\n",
              "    <tr>\n",
              "      <th>std</th>\n",
              "      <td>45.502854</td>\n",
              "    </tr>\n",
              "    <tr>\n",
              "      <th>min</th>\n",
              "      <td>0.000000</td>\n",
              "    </tr>\n",
              "    <tr>\n",
              "      <th>25%</th>\n",
              "      <td>34.900000</td>\n",
              "    </tr>\n",
              "    <tr>\n",
              "      <th>50%</th>\n",
              "      <td>59.900000</td>\n",
              "    </tr>\n",
              "    <tr>\n",
              "      <th>75%</th>\n",
              "      <td>89.900000</td>\n",
              "    </tr>\n",
              "    <tr>\n",
              "      <th>max</th>\n",
              "      <td>999.000000</td>\n",
              "    </tr>\n",
              "  </tbody>\n",
              "</table>\n",
              "</div>\n",
              "      <button class=\"colab-df-convert\" onclick=\"convertToInteractive('df-e74e397b-ae6f-4f17-9c16-e33f4c58f0e9')\"\n",
              "              title=\"Convert this dataframe to an interactive table.\"\n",
              "              style=\"display:none;\">\n",
              "        \n",
              "  <svg xmlns=\"http://www.w3.org/2000/svg\" height=\"24px\"viewBox=\"0 0 24 24\"\n",
              "       width=\"24px\">\n",
              "    <path d=\"M0 0h24v24H0V0z\" fill=\"none\"/>\n",
              "    <path d=\"M18.56 5.44l.94 2.06.94-2.06 2.06-.94-2.06-.94-.94-2.06-.94 2.06-2.06.94zm-11 1L8.5 8.5l.94-2.06 2.06-.94-2.06-.94L8.5 2.5l-.94 2.06-2.06.94zm10 10l.94 2.06.94-2.06 2.06-.94-2.06-.94-.94-2.06-.94 2.06-2.06.94z\"/><path d=\"M17.41 7.96l-1.37-1.37c-.4-.4-.92-.59-1.43-.59-.52 0-1.04.2-1.43.59L10.3 9.45l-7.72 7.72c-.78.78-.78 2.05 0 2.83L4 21.41c.39.39.9.59 1.41.59.51 0 1.02-.2 1.41-.59l7.78-7.78 2.81-2.81c.8-.78.8-2.07 0-2.86zM5.41 20L4 18.59l7.72-7.72 1.47 1.35L5.41 20z\"/>\n",
              "  </svg>\n",
              "      </button>\n",
              "      \n",
              "  <style>\n",
              "    .colab-df-container {\n",
              "      display:flex;\n",
              "      flex-wrap:wrap;\n",
              "      gap: 12px;\n",
              "    }\n",
              "\n",
              "    .colab-df-convert {\n",
              "      background-color: #E8F0FE;\n",
              "      border: none;\n",
              "      border-radius: 50%;\n",
              "      cursor: pointer;\n",
              "      display: none;\n",
              "      fill: #1967D2;\n",
              "      height: 32px;\n",
              "      padding: 0 0 0 0;\n",
              "      width: 32px;\n",
              "    }\n",
              "\n",
              "    .colab-df-convert:hover {\n",
              "      background-color: #E2EBFA;\n",
              "      box-shadow: 0px 1px 2px rgba(60, 64, 67, 0.3), 0px 1px 3px 1px rgba(60, 64, 67, 0.15);\n",
              "      fill: #174EA6;\n",
              "    }\n",
              "\n",
              "    [theme=dark] .colab-df-convert {\n",
              "      background-color: #3B4455;\n",
              "      fill: #D2E3FC;\n",
              "    }\n",
              "\n",
              "    [theme=dark] .colab-df-convert:hover {\n",
              "      background-color: #434B5C;\n",
              "      box-shadow: 0px 1px 3px 1px rgba(0, 0, 0, 0.15);\n",
              "      filter: drop-shadow(0px 1px 2px rgba(0, 0, 0, 0.3));\n",
              "      fill: #FFFFFF;\n",
              "    }\n",
              "  </style>\n",
              "\n",
              "      <script>\n",
              "        const buttonEl =\n",
              "          document.querySelector('#df-e74e397b-ae6f-4f17-9c16-e33f4c58f0e9 button.colab-df-convert');\n",
              "        buttonEl.style.display =\n",
              "          google.colab.kernel.accessAllowed ? 'block' : 'none';\n",
              "\n",
              "        async function convertToInteractive(key) {\n",
              "          const element = document.querySelector('#df-e74e397b-ae6f-4f17-9c16-e33f4c58f0e9');\n",
              "          const dataTable =\n",
              "            await google.colab.kernel.invokeFunction('convertToInteractive',\n",
              "                                                     [key], {});\n",
              "          if (!dataTable) return;\n",
              "\n",
              "          const docLinkHtml = 'Like what you see? Visit the ' +\n",
              "            '<a target=\"_blank\" href=https://colab.research.google.com/notebooks/data_table.ipynb>data table notebook</a>'\n",
              "            + ' to learn more about interactive tables.';\n",
              "          element.innerHTML = '';\n",
              "          dataTable['output_type'] = 'display_data';\n",
              "          await google.colab.output.renderOutput(dataTable, element);\n",
              "          const docLink = document.createElement('div');\n",
              "          docLink.innerHTML = docLinkHtml;\n",
              "          element.appendChild(docLink);\n",
              "        }\n",
              "      </script>\n",
              "    </div>\n",
              "  </div>\n",
              "  "
            ]
          },
          "metadata": {},
          "execution_count": 26
        }
      ],
      "source": [
        "df[['price']].describe()"
      ]
    },
    {
      "cell_type": "code",
      "execution_count": 27,
      "metadata": {
        "id": "Bo3KqWqRBMBC",
        "colab": {
          "base_uri": "https://localhost:8080/",
          "height": 483
        },
        "outputId": "07038356-bb57-4b1c-902f-555603a58c59"
      },
      "outputs": [
        {
          "output_type": "display_data",
          "data": {
            "text/plain": [
              "<Figure size 432x576 with 1 Axes>"
            ],
            "image/png": "[encoded data removed]"
          },
          "metadata": {
            "needs_background": "light"
          }
        }
      ],
      "source": [
        "#Distribusi data price\n",
        "df['price'].hist(bins=20, figsize=(6, 8))\n",
        "plt.show()"
      ]
    },
    {
      "cell_type": "code",
      "execution_count": 28,
      "metadata": {
        "id": "owFqGElSBN8H",
        "colab": {
          "base_uri": "https://localhost:8080/",
          "height": 296
        },
        "outputId": "e129e816-3376-4a4a-c3e0-a7c053ba3cbe"
      },
      "outputs": [
        {
          "output_type": "execute_result",
          "data": {
            "text/plain": [
              "<matplotlib.axes._subplots.AxesSubplot at 0x7efcd9f94490>"
            ]
          },
          "metadata": {},
          "execution_count": 28
        },
        {
          "output_type": "display_data",
          "data": {
            "text/plain": [
              "<Figure size 576x288 with 1 Axes>"
            ],
            "image/png": "[encoded data removed]"
          },
          "metadata": {
            "needs_background": "light"
          }
        }
      ],
      "source": [
        "#visualisasi outlier pada data price\n",
        "plt.figure(figsize = (8, 4))\n",
        "sns.boxplot(x = df.price)"
      ]
    },
    {
      "cell_type": "code",
      "execution_count": 29,
      "metadata": {
        "id": "jvF6u5mEBQAr",
        "colab": {
          "base_uri": "https://localhost:8080/",
          "height": 386
        },
        "outputId": "185ffd5f-f14e-4a14-dff4-22b298599a2d"
      },
      "outputs": [
        {
          "output_type": "execute_result",
          "data": {
            "text/plain": [
              "<seaborn.axisgrid.FacetGrid at 0x7efcda2e4f10>"
            ]
          },
          "metadata": {},
          "execution_count": 29
        },
        {
          "output_type": "display_data",
          "data": {
            "text/plain": [
              "<Figure size 360x360 with 1 Axes>"
            ],
            "image/png": "[encoded data removed]"
          },
          "metadata": {
            "needs_background": "light"
          }
        }
      ],
      "source": [
        "#visualisasi price dengan returnShipment\n",
        "sns.catplot(x='returnShipment', y='price', hue = 'returnShipment', data = df, palette='pastel')"
      ]
    },
    {
      "cell_type": "code",
      "execution_count": 30,
      "metadata": {
        "id": "KppZ6ovaBR6b",
        "colab": {
          "base_uri": "https://localhost:8080/"
        },
        "outputId": "8ffd21d3-f739-4778-a0d0-61de0fb307eb"
      },
      "outputs": [
        {
          "output_type": "execute_result",
          "data": {
            "text/plain": [
              "299.9"
            ]
          },
          "metadata": {},
          "execution_count": 30
        }
      ],
      "source": [
        "#menghitung 0.999 persentile dari atribut price\n",
        "max_price = df.price.quantile(0.999)\n",
        "max_price"
      ]
    },
    {
      "cell_type": "code",
      "execution_count": 31,
      "metadata": {
        "id": "zTpCaLpGBYRZ"
      },
      "outputs": [],
      "source": [
        "#remove data outlier\n",
        "df = df[(df.price<max_price)]"
      ]
    },
    {
      "cell_type": "code",
      "execution_count": 32,
      "metadata": {
        "id": "RVtluSMyBaVL",
        "colab": {
          "base_uri": "https://localhost:8080/",
          "height": 296
        },
        "outputId": "9d1d0be3-7955-437b-93d9-2e855cea6272"
      },
      "outputs": [
        {
          "output_type": "execute_result",
          "data": {
            "text/plain": [
              "<matplotlib.axes._subplots.AxesSubplot at 0x7efcd8e419d0>"
            ]
          },
          "metadata": {},
          "execution_count": 32
        },
        {
          "output_type": "display_data",
          "data": {
            "text/plain": [
              "<Figure size 576x288 with 1 Axes>"
            ],
            "image/png": "[encoded data removed]"
          },
          "metadata": {
            "needs_background": "light"
          }
        }
      ],
      "source": [
        "#visualisasi setelah dilakukan penghapusan outlier\n",
        "plt.figure(figsize = (8, 4))\n",
        "sns.boxplot(x = df.price)"
      ]
    },
    {
      "cell_type": "code",
      "execution_count": 33,
      "metadata": {
        "id": "uwUf-ZUOBcCf",
        "colab": {
          "base_uri": "https://localhost:8080/",
          "height": 483
        },
        "outputId": "1a66cb52-4f7c-4805-c88f-5c64de560d66"
      },
      "outputs": [
        {
          "output_type": "display_data",
          "data": {
            "text/plain": [
              "<Figure size 432x576 with 1 Axes>"
            ],
            "image/png": "[encoded data removed]"
          },
          "metadata": {
            "needs_background": "light"
          }
        }
      ],
      "source": [
        "#Distribusi data price setelah penanganan outlier\n",
        "df['price'].hist(bins=20, figsize=(6, 8))\n",
        "plt.show()"
      ]
    },
    {
      "cell_type": "code",
      "execution_count": 34,
      "metadata": {
        "id": "8CR1zWhMBeHG",
        "colab": {
          "base_uri": "https://localhost:8080/",
          "height": 386
        },
        "outputId": "c0d30ba3-7d1a-4de5-8312-bb29821509ff"
      },
      "outputs": [
        {
          "output_type": "execute_result",
          "data": {
            "text/plain": [
              "<seaborn.axisgrid.FacetGrid at 0x7efcd8f42090>"
            ]
          },
          "metadata": {},
          "execution_count": 34
        },
        {
          "output_type": "display_data",
          "data": {
            "text/plain": [
              "<Figure size 360x360 with 1 Axes>"
            ],
            "image/png": "[encoded data removed]"
          },
          "metadata": {
            "needs_background": "light"
          }
        }
      ],
      "source": [
        "#visualisasi setelah dilakukan penghapusan outlier atribut price dengan returnShipment\n",
        "sns.catplot(x='returnShipment', y='price', hue = 'returnShipment', data = df, palette='pastel')"
      ]
    },
    {
      "cell_type": "markdown",
      "source": [
        "### Visualisasi Data"
      ],
      "metadata": {
        "id": "e5rB6VkRxiQ_"
      }
    },
    {
      "cell_type": "code",
      "execution_count": 35,
      "metadata": {
        "id": "rMu4D9aVBgFF",
        "colab": {
          "base_uri": "https://localhost:8080/"
        },
        "outputId": "47e1021d-da42-4049-fc19-4c8988e09d74"
      },
      "outputs": [
        {
          "output_type": "stream",
          "name": "stdout",
          "text": [
            "Total shipment 480358\n",
            "Barang tidak dikembalikan 248699\n",
            "Barang dikembalikan 231659\n",
            "Persentase tidak dikembalikan 51.77%\n",
            "Persentase dikembalikan 48.23%\n"
          ]
        }
      ],
      "source": [
        "#Cek jumlah data pada returnShipment untuk melihat apakah data target \"returShipment\" imbalance atau tidak\n",
        "shipment = len(df.returnShipment)\n",
        "disimpan_count = len(df[df.returnShipment == 0])\n",
        "dikembalikan_count = len(df[df.returnShipment == 1])\n",
        "disimpan_percentage = round(disimpan_count/shipment*100, 2)\n",
        "dikembalikan_percentage = round(dikembalikan_count/shipment*100, 2)\n",
        "\n",
        "print('Total shipment {}'.format(shipment))\n",
        "print('Barang tidak dikembalikan {}'.format(disimpan_count))\n",
        "print('Barang dikembalikan {}'.format(dikembalikan_count))\n",
        "print('Persentase tidak dikembalikan {}%'.format(disimpan_percentage))\n",
        "print('Persentase dikembalikan {}%'.format(dikembalikan_percentage))"
      ]
    },
    {
      "cell_type": "code",
      "execution_count": 36,
      "metadata": {
        "id": "RLr6wCA4BrlE",
        "colab": {
          "base_uri": "https://localhost:8080/",
          "height": 296
        },
        "outputId": "870ef4e3-62e7-4618-e568-d3fe69e4cc63"
      },
      "outputs": [
        {
          "output_type": "execute_result",
          "data": {
            "text/plain": [
              "<matplotlib.axes._subplots.AxesSubplot at 0x7efcd9f63c50>"
            ]
          },
          "metadata": {},
          "execution_count": 36
        },
        {
          "output_type": "display_data",
          "data": {
            "text/plain": [
              "<Figure size 432x288 with 1 Axes>"
            ],
            "image/png": "[encoded data removed]"
          },
          "metadata": {
            "needs_background": "light"
          }
        }
      ],
      "source": [
        "#visualisasi data yang melakukan pengembalian barang dan yang tidak melakukan pengembalian (tetap disimpan)\n",
        "sns.countplot(x='returnShipment', data = df)"
      ]
    },
    {
      "cell_type": "code",
      "execution_count": 37,
      "metadata": {
        "id": "fO6rhWccBt2s",
        "colab": {
          "base_uri": "https://localhost:8080/",
          "height": 514
        },
        "outputId": "744f6547-839f-47d5-b539-a5ecec1c7d5d"
      },
      "outputs": [
        {
          "output_type": "display_data",
          "data": {
            "text/plain": [
              "<Figure size 432x576 with 1 Axes>"
            ],
            "image/png": "[encoded data removed]"
          },
          "metadata": {
            "needs_background": "light"
          }
        }
      ],
      "source": [
        "plt.figure(figsize=(6,8))\n",
        "ax = sns.countplot(x='returnShipment', data = df)\n",
        "plt.title('Return Shipment', fontsize=14)\n",
        "\n",
        "for p in ax.patches:\n",
        "        ax.annotate(format(p.get_height(), 'd'), (p.get_x() + p.get_width() / 2., p.get_height()), \n",
        "                    ha = 'center', va = 'center', xytext = (0, 10), textcoords = 'offset points')"
      ]
    },
    {
      "cell_type": "code",
      "execution_count": 38,
      "metadata": {
        "id": "WFC75OImBwPS",
        "colab": {
          "base_uri": "https://localhost:8080/",
          "height": 514
        },
        "outputId": "6cdaf4a6-10d3-4bb2-cc3d-9dd132c2084c"
      },
      "outputs": [
        {
          "output_type": "display_data",
          "data": {
            "text/plain": [
              "<Figure size 432x576 with 1 Axes>"
            ],
            "image/png": "[encoded data removed]"
          },
          "metadata": {
            "needs_background": "light"
          }
        }
      ],
      "source": [
        "plt.figure(figsize=(6,8))\n",
        "total = float(len(df))\n",
        "ax = sns.countplot(x='returnShipment', data=df)\n",
        "plt.title('Persentase Return Shipment', fontsize=14)\n",
        "\n",
        "for p in ax.patches:\n",
        "        ax.annotate(format(100 * p.get_height()/total, '.2f') + '%', (p.get_x() + p.get_width() / 2., p.get_height()), \n",
        "                    ha = 'center', va = 'center', xytext = (0, 10), textcoords = 'offset points')"
      ]
    },
    {
      "cell_type": "markdown",
      "source": [
        "*Dari visualisasi-visualisasi terhadap atribut target \"returnShipment\" di atas, dapat dilihat bahwa antara data yang mengembalikan dengan yang tidak mengembalikan barang cukup seimbang. Dimana yang tidak mengembalikan barang persentasenya lebih tinggi (51,7%) dibandingkan yang mengembalikan barang (48,2%)*"
      ],
      "metadata": {
        "id": "lBYDaHVevUiE"
      }
    },
    {
      "cell_type": "code",
      "execution_count": 39,
      "metadata": {
        "id": "oKDNa7SgByia",
        "colab": {
          "base_uri": "https://localhost:8080/"
        },
        "outputId": "9a72022f-79d4-44d8-fb46-de6e6ae42233"
      },
      "outputs": [
        {
          "output_type": "execute_result",
          "data": {
            "text/plain": [
              "salutation\n",
              "Company            361\n",
              "Family            1886\n",
              "Mr               16677\n",
              "Mrs             461084\n",
              "not reported       350\n",
              "Name: salutation, dtype: int64"
            ]
          },
          "metadata": {},
          "execution_count": 39
        }
      ],
      "source": [
        "#Melihat banyaknya pesanan tiap salutation\n",
        "df.groupby(\"salutation\")[\"salutation\"].count()"
      ]
    },
    {
      "cell_type": "code",
      "execution_count": 40,
      "metadata": {
        "id": "qhYxr0VcB1Jz",
        "colab": {
          "base_uri": "https://localhost:8080/",
          "height": 514
        },
        "outputId": "90a7af4f-eed1-4c72-a605-331e0beb120a"
      },
      "outputs": [
        {
          "output_type": "display_data",
          "data": {
            "text/plain": [
              "<Figure size 432x576 with 1 Axes>"
            ],
            "image/png": "[encoded data removed]"
          },
          "metadata": {
            "needs_background": "light"
          }
        }
      ],
      "source": [
        "#visualisasi persentase data salutation\n",
        "plt.figure(figsize=(6,8))\n",
        "total = float(len(df['salutation']))\n",
        "ax = sns.countplot(x='salutation', data=df)\n",
        "plt.title('Persentase Salutation', fontsize=14)\n",
        "\n",
        "for p in ax.patches:\n",
        "        ax.annotate(format(100 * p.get_height()/total, '.2f') + '%', (p.get_x() + p.get_width() / 2., p.get_height()), \n",
        "                    ha = 'center', va = 'center', xytext = (0, 10), textcoords = 'offset points')"
      ]
    },
    {
      "cell_type": "code",
      "execution_count": 41,
      "metadata": {
        "id": "iF16PibZB3dP",
        "colab": {
          "base_uri": "https://localhost:8080/",
          "height": 514
        },
        "outputId": "113c38aa-04ad-4d80-bad4-fb5a17f7f0da"
      },
      "outputs": [
        {
          "output_type": "execute_result",
          "data": {
            "text/plain": [
              "<matplotlib.axes._subplots.AxesSubplot at 0x7efcd96c0790>"
            ]
          },
          "metadata": {},
          "execution_count": 41
        },
        {
          "output_type": "display_data",
          "data": {
            "text/plain": [
              "<Figure size 432x576 with 1 Axes>"
            ],
            "image/png": "[encoded data removed]"
          },
          "metadata": {
            "needs_background": "light"
          }
        }
      ],
      "source": [
        "#visualisasi hubungan salutation dengan returnShipment\n",
        "plt.figure(figsize=(6,8))\n",
        "sns.countplot(x=\"salutation\", hue = \"returnShipment\", data=df)"
      ]
    },
    {
      "cell_type": "code",
      "execution_count": 42,
      "metadata": {
        "id": "q4_NkzLPB56N",
        "colab": {
          "base_uri": "https://localhost:8080/"
        },
        "outputId": "b4772a3a-ea31-432b-9de4-b8164c934681"
      },
      "outputs": [
        {
          "output_type": "execute_result",
          "data": {
            "text/plain": [
              "returnShipment  salutation  \n",
              "0               Company            193\n",
              "                Family            1056\n",
              "                Mr                9835\n",
              "                Mrs             237377\n",
              "                not reported       238\n",
              "1               Company            168\n",
              "                Family             830\n",
              "                Mr                6842\n",
              "                Mrs             223707\n",
              "                not reported       112\n",
              "Name: salutation, dtype: int64"
            ]
          },
          "metadata": {},
          "execution_count": 42
        }
      ],
      "source": [
        "#Melihat banyaknya pesanan tiap salutation yang mengembalikan pesanan dengan yang tidak mengembalikan pesanan\n",
        "df.groupby([\"returnShipment\",\"salutation\"])[\"salutation\"].count()"
      ]
    },
    {
      "cell_type": "code",
      "execution_count": 43,
      "metadata": {
        "id": "6ny8zy5uB8qD",
        "colab": {
          "base_uri": "https://localhost:8080/",
          "height": 497
        },
        "outputId": "6c43c910-22e8-4818-f54a-38b6c82089c0"
      },
      "outputs": [
        {
          "output_type": "display_data",
          "data": {
            "text/plain": [
              "<Figure size 864x576 with 1 Axes>"
            ],
            "image/png": "[encoded data removed]"
          },
          "metadata": {
            "needs_background": "light"
          }
        }
      ],
      "source": [
        "#visualisasi hubungan salutation dengan returnShipment\n",
        "plt.figure(figsize=(12,8))\n",
        "total = float(len(df['salutation']))\n",
        "ax = sns.countplot(x=\"salutation\", hue = \"returnShipment\", data=df)\n",
        "\n",
        "for p in ax.patches:\n",
        "        ax.annotate(format(100 * p.get_height()/total, '.2f') + '%', (p.get_x() + p.get_width() / 2., p.get_height()), \n",
        "                    ha = 'center', va = 'center', xytext = (0, 10), textcoords = 'offset points')"
      ]
    },
    {
      "cell_type": "markdown",
      "source": [
        "*Pesanan terbanyak oleh salutation \"Mrs\" sebanyak 461084 pesanan atau 95.99% dari total pesanan dengan pesanan tidak dikembalikan atau disimpan lebih banyak yaitu 49.2% dibandingkan pesanan dikembalikan yaitu 46.5%*"
      ],
      "metadata": {
        "id": "1aTEbmz-yy94"
      }
    },
    {
      "cell_type": "code",
      "execution_count": 44,
      "metadata": {
        "id": "PzftepyPB-8l",
        "colab": {
          "base_uri": "https://localhost:8080/",
          "height": 531
        },
        "outputId": "7ca7440a-64c6-4169-c5c0-47589f0f20bb"
      },
      "outputs": [
        {
          "output_type": "execute_result",
          "data": {
            "text/plain": [
              "Text(0.5, 1.0, 'State')"
            ]
          },
          "metadata": {},
          "execution_count": 44
        },
        {
          "output_type": "display_data",
          "data": {
            "text/plain": [
              "<Figure size 1152x576 with 1 Axes>"
            ],
            "image/png": "[encoded data removed]"
          },
          "metadata": {
            "needs_background": "light"
          }
        }
      ],
      "source": [
        "#visualisasi persentase data state\n",
        "plt.figure(figsize=(16, 8))\n",
        "total = float(len(df['state']))\n",
        "sns.countplot(y='state', data=df)\n",
        "plt.title('State', fontsize=14)"
      ]
    },
    {
      "cell_type": "code",
      "execution_count": 45,
      "metadata": {
        "id": "5vINR01GCBx9",
        "colab": {
          "base_uri": "https://localhost:8080/"
        },
        "outputId": "f4d29917-be98-4641-a7a4-944349417614"
      },
      "outputs": [
        {
          "output_type": "execute_result",
          "data": {
            "text/plain": [
              "state\n",
              "Baden-Wuerttemberg                63010\n",
              "Bavaria                           68544\n",
              "Berlin                            18275\n",
              "Brandenburg                       10763\n",
              "Bremen                             5505\n",
              "Hamburg                           10839\n",
              "Hesse                             36777\n",
              "Lower Saxony                      68915\n",
              "Mecklenburg-Western Pomerania      7159\n",
              "North Rhine-Westphalia           110958\n",
              "Rhineland-Palatinate              24184\n",
              "Saarland                           4212\n",
              "Saxony                            14850\n",
              "Saxony-Anhalt                      5577\n",
              "Schleswig-Holstein                23626\n",
              "Thuringia                          7164\n",
              "Name: state, dtype: int64"
            ]
          },
          "metadata": {},
          "execution_count": 45
        }
      ],
      "source": [
        "#Melihat jumlah pesanan tiap state\n",
        "df.groupby(\"state\")[\"state\"].count()"
      ]
    },
    {
      "cell_type": "code",
      "execution_count": 46,
      "metadata": {
        "id": "zXkFgzQHCE3u",
        "colab": {
          "base_uri": "https://localhost:8080/",
          "height": 736
        },
        "outputId": "872b07d1-c5b7-4ecd-c2fc-6eed4e563fb6"
      },
      "outputs": [
        {
          "output_type": "display_data",
          "data": {
            "text/plain": [
              "<Figure size 1440x720 with 1 Axes>"
            ],
            "image/png": "[encoded data removed]"
          },
          "metadata": {
            "needs_background": "light"
          }
        }
      ],
      "source": [
        "#visualisasi persentase state\n",
        "plt.figure(figsize=(20, 10))\n",
        "plt.xticks(rotation=45)\n",
        "total = float(len(df['state']))\n",
        "ax = sns.countplot(x='state', data=df)\n",
        "plt.title('State (%)', fontsize=14)\n",
        "\n",
        "for p in ax.patches:\n",
        "        ax.annotate(format(100 * p.get_height()/total, '.2f') + '%', (p.get_x() + p.get_width() / 2., p.get_height()), \n",
        "                    ha = 'center', va = 'center', xytext = (0, 10), textcoords = 'offset points')"
      ]
    },
    {
      "cell_type": "code",
      "execution_count": 47,
      "metadata": {
        "id": "x8CcgLP4CHjQ",
        "colab": {
          "base_uri": "https://localhost:8080/"
        },
        "outputId": "32e0537c-6a7e-4958-c517-5ae24395ce37"
      },
      "outputs": [
        {
          "output_type": "execute_result",
          "data": {
            "text/plain": [
              "returnShipment  state                        \n",
              "0               Baden-Wuerttemberg               32662\n",
              "                Bavaria                          35340\n",
              "                Berlin                            9702\n",
              "                Brandenburg                       5363\n",
              "                Bremen                            3037\n",
              "                Hamburg                           6026\n",
              "                Hesse                            18997\n",
              "                Lower Saxony                     35506\n",
              "                Mecklenburg-Western Pomerania     3556\n",
              "                North Rhine-Westphalia           58124\n",
              "                Rhineland-Palatinate             12345\n",
              "                Saarland                          2256\n",
              "                Saxony                            7311\n",
              "                Saxony-Anhalt                     2748\n",
              "                Schleswig-Holstein               12162\n",
              "                Thuringia                         3564\n",
              "1               Baden-Wuerttemberg               30348\n",
              "                Bavaria                          33204\n",
              "                Berlin                            8573\n",
              "                Brandenburg                       5400\n",
              "                Bremen                            2468\n",
              "                Hamburg                           4813\n",
              "                Hesse                            17780\n",
              "                Lower Saxony                     33409\n",
              "                Mecklenburg-Western Pomerania     3603\n",
              "                North Rhine-Westphalia           52834\n",
              "                Rhineland-Palatinate             11839\n",
              "                Saarland                          1956\n",
              "                Saxony                            7539\n",
              "                Saxony-Anhalt                     2829\n",
              "                Schleswig-Holstein               11464\n",
              "                Thuringia                         3600\n",
              "Name: state, dtype: int64"
            ]
          },
          "metadata": {},
          "execution_count": 47
        }
      ],
      "source": [
        "#Melihat jumlah pesanan tiap state yang mengembalikan pesanan dengan yang tidak mengembalikan pesanan\n",
        "df.groupby([\"returnShipment\",\"state\"])[\"state\"].count()"
      ]
    },
    {
      "cell_type": "code",
      "execution_count": 48,
      "metadata": {
        "id": "k10rBaDoCN8L",
        "colab": {
          "base_uri": "https://localhost:8080/",
          "height": 623
        },
        "outputId": "ea4b4325-b73f-407d-f652-1d6609922f63"
      },
      "outputs": [
        {
          "output_type": "execute_result",
          "data": {
            "text/plain": [
              "<matplotlib.axes._subplots.AxesSubplot at 0x7efcda8f9750>"
            ]
          },
          "metadata": {},
          "execution_count": 48
        },
        {
          "output_type": "display_data",
          "data": {
            "text/plain": [
              "<Figure size 576x720 with 1 Axes>"
            ],
            "image/png": "[encoded data removed]"
          },
          "metadata": {
            "needs_background": "light"
          }
        }
      ],
      "source": [
        "#visualisasi hubungan state dengan returnShipment\n",
        "plt.figure(figsize=(8,10))\n",
        "sns.countplot(y=\"state\", hue = \"returnShipment\", data=df)"
      ]
    },
    {
      "cell_type": "markdown",
      "source": [
        "*Pesanan terbanyak terdapat pada state \"Nort Rhine-Westphalia\" sebanyak  110958 pesanan atau 23.10% dari total pesanan dengan pesanan tidak dikembalikan atau disimpan lebih banyak dibandingkan pesanan dikembalikan.*"
      ],
      "metadata": {
        "id": "TqK-PXp_2R50"
      }
    },
    {
      "cell_type": "code",
      "execution_count": 49,
      "metadata": {
        "id": "zihM5A2HCRBu",
        "colab": {
          "base_uri": "https://localhost:8080/",
          "height": 1000
        },
        "outputId": "7fb57bf1-8a2e-493e-ff56-bc430d230533"
      },
      "outputs": [
        {
          "output_type": "display_data",
          "data": {
            "text/plain": [
              "<Figure size 720x1440 with 1 Axes>"
            ],
            "image/png": "[encoded data removed]"
          },
          "metadata": {
            "needs_background": "light"
          }
        }
      ],
      "source": [
        "#visualisasi data color\n",
        "plt.figure(figsize = (10, 20))\n",
        "sns.countplot(y=\"color\", data=df, order = df[\"color\"].value_counts().index)\n",
        "plt.show()"
      ]
    },
    {
      "cell_type": "markdown",
      "source": [
        "*Pesanan terbanyak dengan warna hitam. Ini bisa juga dikarenakan banyak barang-barang yang berwarna hitam.*"
      ],
      "metadata": {
        "id": "_vVO_eP32__l"
      }
    },
    {
      "cell_type": "code",
      "execution_count": 50,
      "metadata": {
        "id": "MNU1a0P1CXAC",
        "colab": {
          "base_uri": "https://localhost:8080/",
          "height": 1000
        },
        "outputId": "69d31b5b-f7d5-4b2a-ca97-8d8baaaf635b"
      },
      "outputs": [
        {
          "output_type": "display_data",
          "data": {
            "text/plain": [
              "<Figure size 720x1440 with 1 Axes>"
            ],
            "image/png": "[encoded data removed]"
          },
          "metadata": {
            "needs_background": "light"
          }
        }
      ],
      "source": [
        "#visualisasi data size\n",
        "plt.figure(figsize = (10, 20))\n",
        "sns.countplot(y=\"size\", data=df, order = df[\"size\"].value_counts().index)\n",
        "plt.show()"
      ]
    },
    {
      "cell_type": "markdown",
      "source": [
        "*Pesanan dengan size \"L\" paling banyak dipesan.*"
      ],
      "metadata": {
        "id": "QbVwLxHH3jt9"
      }
    },
    {
      "cell_type": "code",
      "execution_count": 51,
      "metadata": {
        "id": "S2INRG9ECbfS",
        "colab": {
          "base_uri": "https://localhost:8080/",
          "height": 1000
        },
        "outputId": "5ab6f87f-b2ef-4ef4-93dc-8db36a846c35"
      },
      "outputs": [
        {
          "output_type": "execute_result",
          "data": {
            "text/plain": [
              "<matplotlib.axes._subplots.AxesSubplot at 0x7efcd8768150>"
            ]
          },
          "metadata": {},
          "execution_count": 51
        },
        {
          "output_type": "display_data",
          "data": {
            "text/plain": [
              "<Figure size 1080x1440 with 1 Axes>"
            ],
            "image/png": "[encoded data removed]"
          },
          "metadata": {
            "needs_background": "light"
          }
        }
      ],
      "source": [
        "#visualisasi hubungan data price, state, dan salutation\n",
        "fig, ax = plt.subplots(figsize=(15, 20))\n",
        "sns.barplot(x='price', y='state', hue='salutation', data=df)"
      ]
    },
    {
      "cell_type": "markdown",
      "source": [
        "*Dari grafik di atas dapat diketahui state Berlin dan Breman memiliki harga pemesanan tinggi. Tiap state pesanan didominasi pesanan dari salutation yang berbeda-beda.*"
      ],
      "metadata": {
        "id": "n8xrDJyJ34Z-"
      }
    },
    {
      "cell_type": "markdown",
      "source": [
        "### Training"
      ],
      "metadata": {
        "id": "Q4v2RlN437XR"
      }
    },
    {
      "cell_type": "code",
      "execution_count": 52,
      "metadata": {
        "id": "dEcj8RRcCezH"
      },
      "outputs": [],
      "source": [
        "#Salin data df\n",
        "df_train = df.copy()"
      ]
    },
    {
      "cell_type": "code",
      "source": [
        "#encoding atribut returnShipment menggunakan LabelEncoder\n",
        "from sklearn import preprocessing\n",
        "le = preprocessing.LabelEncoder()\n",
        "le.fit(df_train.returnShipment)\n",
        "Y = le.transform(df_train.returnShipment)"
      ],
      "metadata": {
        "id": "N9ZYSQB_QRxB"
      },
      "execution_count": 53,
      "outputs": []
    },
    {
      "cell_type": "code",
      "source": [
        "#mengaplikasikan one hot encoding untuk data bertipe categorical\n",
        "df_train=pd.get_dummies(data=df_train, columns=['size', 'color', 'salutation', 'state'])"
      ],
      "metadata": {
        "id": "H90KUQ9kQT71"
      },
      "execution_count": 54,
      "outputs": []
    },
    {
      "cell_type": "code",
      "source": [
        "#cek atribut dan tipe data data train\n",
        "df_train.info()"
      ],
      "metadata": {
        "colab": {
          "base_uri": "https://localhost:8080/"
        },
        "id": "amTAHtleQWPU",
        "outputId": "ec3375d5-2653-4e22-e70b-53939dcb0263"
      },
      "execution_count": 55,
      "outputs": [
        {
          "output_type": "stream",
          "name": "stdout",
          "text": [
            "<class 'pandas.core.frame.DataFrame'>\n",
            "Int64Index: 480358 entries, 0 to 481091\n",
            "Columns: 210 entries, orderItemID to state_Thuringia\n",
            "dtypes: datetime64[ns](4), float64(1), int64(5), uint8(200)\n",
            "memory usage: 148.1 MB\n"
          ]
        }
      ]
    },
    {
      "cell_type": "code",
      "source": [
        "#Siapkan atribut training dengan membuang kelas label (kelas label sudah pindah ke variabel Y sebelumnya)\n",
        "X = df_train.drop(\"returnShipment\", axis=1)"
      ],
      "metadata": {
        "id": "-yi-f2BJQY_C"
      },
      "execution_count": 56,
      "outputs": []
    },
    {
      "cell_type": "code",
      "source": [
        "#melihat data train\n",
        "df_train.head()"
      ],
      "metadata": {
        "colab": {
          "base_uri": "https://localhost:8080/",
          "height": 421
        },
        "id": "sMW15e9TQcHq",
        "outputId": "1994916e-6fe9-4ad7-8f6d-9b3d96b6aa0d"
      },
      "execution_count": 57,
      "outputs": [
        {
          "output_type": "execute_result",
          "data": {
            "text/plain": [
              "   orderItemID  orderDate deliveryDate  itemID  manufacturerID  price  \\\n",
              "0            1 2012-04-01   2012-04-03     186              25  69.90   \n",
              "1            2 2012-04-01   2012-04-03      71              21  69.95   \n",
              "2            3 2012-04-01   2012-04-03      71              21  69.95   \n",
              "3            4 2012-04-02   2013-07-22      22              14  39.90   \n",
              "4            5 2012-04-02   1990-12-31     151              53  29.90   \n",
              "\n",
              "   customerID dateOfBirth creationDate  returnShipment  ...  state_Hesse  \\\n",
              "0         794  1965-01-06   2011-04-25               0  ...            0   \n",
              "1         794  1965-01-06   2011-04-25               1  ...            0   \n",
              "2         794  1965-01-06   2011-04-25               1  ...            0   \n",
              "3         808  1959-11-09   2012-01-04               0  ...            0   \n",
              "4         825  1964-07-11   2011-02-16               0  ...            0   \n",
              "\n",
              "   state_Lower Saxony  state_Mecklenburg-Western Pomerania  \\\n",
              "0                   0                                    0   \n",
              "1                   0                                    0   \n",
              "2                   0                                    0   \n",
              "3                   0                                    0   \n",
              "4                   0                                    0   \n",
              "\n",
              "   state_North Rhine-Westphalia  state_Rhineland-Palatinate  state_Saarland  \\\n",
              "0                             0                           0               0   \n",
              "1                             0                           0               0   \n",
              "2                             0                           0               0   \n",
              "3                             0                           0               0   \n",
              "4                             0                           1               0   \n",
              "\n",
              "   state_Saxony  state_Saxony-Anhalt  state_Schleswig-Holstein  \\\n",
              "0             0                    0                         0   \n",
              "1             0                    0                         0   \n",
              "2             0                    0                         0   \n",
              "3             1                    0                         0   \n",
              "4             0                    0                         0   \n",
              "\n",
              "   state_Thuringia  \n",
              "0                0  \n",
              "1                0  \n",
              "2                0  \n",
              "3                0  \n",
              "4                0  \n",
              "\n",
              "[5 rows x 210 columns]"
            ],
            "text/html": [
              "\n",
              "  <div id=\"df-051c4ec1-e990-49ec-9aea-3485f1c8636a\">\n",
              "    <div class=\"colab-df-container\">\n",
              "      <div>\n",
              "<style scoped>\n",
              "    .dataframe tbody tr th:only-of-type {\n",
              "        vertical-align: middle;\n",
              "    }\n",
              "\n",
              "    .dataframe tbody tr th {\n",
              "        vertical-align: top;\n",
              "    }\n",
              "\n",
              "    .dataframe thead th {\n",
              "        text-align: right;\n",
              "    }\n",
              "</style>\n",
              "<table border=\"1\" class=\"dataframe\">\n",
              "  <thead>\n",
              "    <tr style=\"text-align: right;\">\n",
              "      <th></th>\n",
              "      <th>orderItemID</th>\n",
              "      <th>orderDate</th>\n",
              "      <th>deliveryDate</th>\n",
              "      <th>itemID</th>\n",
              "      <th>manufacturerID</th>\n",
              "      <th>price</th>\n",
              "      <th>customerID</th>\n",
              "      <th>dateOfBirth</th>\n",
              "      <th>creationDate</th>\n",
              "      <th>returnShipment</th>\n",
              "      <th>...</th>\n",
              "      <th>state_Hesse</th>\n",
              "      <th>state_Lower Saxony</th>\n",
              "      <th>state_Mecklenburg-Western Pomerania</th>\n",
              "      <th>state_North Rhine-Westphalia</th>\n",
              "      <th>state_Rhineland-Palatinate</th>\n",
              "      <th>state_Saarland</th>\n",
              "      <th>state_Saxony</th>\n",
              "      <th>state_Saxony-Anhalt</th>\n",
              "      <th>state_Schleswig-Holstein</th>\n",
              "      <th>state_Thuringia</th>\n",
              "    </tr>\n",
              "  </thead>\n",
              "  <tbody>\n",
              "    <tr>\n",
              "      <th>0</th>\n",
              "      <td>1</td>\n",
              "      <td>2012-04-01</td>\n",
              "      <td>2012-04-03</td>\n",
              "      <td>186</td>\n",
              "      <td>25</td>\n",
              "      <td>69.90</td>\n",
              "      <td>794</td>\n",
              "      <td>1965-01-06</td>\n",
              "      <td>2011-04-25</td>\n",
              "      <td>0</td>\n",
              "      <td>...</td>\n",
              "      <td>0</td>\n",
              "      <td>0</td>\n",
              "      <td>0</td>\n",
              "      <td>0</td>\n",
              "      <td>0</td>\n",
              "      <td>0</td>\n",
              "      <td>0</td>\n",
              "      <td>0</td>\n",
              "      <td>0</td>\n",
              "      <td>0</td>\n",
              "    </tr>\n",
              "    <tr>\n",
              "      <th>1</th>\n",
              "      <td>2</td>\n",
              "      <td>2012-04-01</td>\n",
              "      <td>2012-04-03</td>\n",
              "      <td>71</td>\n",
              "      <td>21</td>\n",
              "      <td>69.95</td>\n",
              "      <td>794</td>\n",
              "      <td>1965-01-06</td>\n",
              "      <td>2011-04-25</td>\n",
              "      <td>1</td>\n",
              "      <td>...</td>\n",
              "      <td>0</td>\n",
              "      <td>0</td>\n",
              "      <td>0</td>\n",
              "      <td>0</td>\n",
              "      <td>0</td>\n",
              "      <td>0</td>\n",
              "      <td>0</td>\n",
              "      <td>0</td>\n",
              "      <td>0</td>\n",
              "      <td>0</td>\n",
              "    </tr>\n",
              "    <tr>\n",
              "      <th>2</th>\n",
              "      <td>3</td>\n",
              "      <td>2012-04-01</td>\n",
              "      <td>2012-04-03</td>\n",
              "      <td>71</td>\n",
              "      <td>21</td>\n",
              "      <td>69.95</td>\n",
              "      <td>794</td>\n",
              "      <td>1965-01-06</td>\n",
              "      <td>2011-04-25</td>\n",
              "      <td>1</td>\n",
              "      <td>...</td>\n",
              "      <td>0</td>\n",
              "      <td>0</td>\n",
              "      <td>0</td>\n",
              "      <td>0</td>\n",
              "      <td>0</td>\n",
              "      <td>0</td>\n",
              "      <td>0</td>\n",
              "      <td>0</td>\n",
              "      <td>0</td>\n",
              "      <td>0</td>\n",
              "    </tr>\n",
              "    <tr>\n",
              "      <th>3</th>\n",
              "      <td>4</td>\n",
              "      <td>2012-04-02</td>\n",
              "      <td>2013-07-22</td>\n",
              "      <td>22</td>\n",
              "      <td>14</td>\n",
              "      <td>39.90</td>\n",
              "      <td>808</td>\n",
              "      <td>1959-11-09</td>\n",
              "      <td>2012-01-04</td>\n",
              "      <td>0</td>\n",
              "      <td>...</td>\n",
              "      <td>0</td>\n",
              "      <td>0</td>\n",
              "      <td>0</td>\n",
              "      <td>0</td>\n",
              "      <td>0</td>\n",
              "      <td>0</td>\n",
              "      <td>1</td>\n",
              "      <td>0</td>\n",
              "      <td>0</td>\n",
              "      <td>0</td>\n",
              "    </tr>\n",
              "    <tr>\n",
              "      <th>4</th>\n",
              "      <td>5</td>\n",
              "      <td>2012-04-02</td>\n",
              "      <td>1990-12-31</td>\n",
              "      <td>151</td>\n",
              "      <td>53</td>\n",
              "      <td>29.90</td>\n",
              "      <td>825</td>\n",
              "      <td>1964-07-11</td>\n",
              "      <td>2011-02-16</td>\n",
              "      <td>0</td>\n",
              "      <td>...</td>\n",
              "      <td>0</td>\n",
              "      <td>0</td>\n",
              "      <td>0</td>\n",
              "      <td>0</td>\n",
              "      <td>1</td>\n",
              "      <td>0</td>\n",
              "      <td>0</td>\n",
              "      <td>0</td>\n",
              "      <td>0</td>\n",
              "      <td>0</td>\n",
              "    </tr>\n",
              "  </tbody>\n",
              "</table>\n",
              "<p>5 rows × 210 columns</p>\n",
              "</div>\n",
              "      <button class=\"colab-df-convert\" onclick=\"convertToInteractive('df-051c4ec1-e990-49ec-9aea-3485f1c8636a')\"\n",
              "              title=\"Convert this dataframe to an interactive table.\"\n",
              "              style=\"display:none;\">\n",
              "        \n",
              "  <svg xmlns=\"http://www.w3.org/2000/svg\" height=\"24px\"viewBox=\"0 0 24 24\"\n",
              "       width=\"24px\">\n",
              "    <path d=\"M0 0h24v24H0V0z\" fill=\"none\"/>\n",
              "    <path d=\"M18.56 5.44l.94 2.06.94-2.06 2.06-.94-2.06-.94-.94-2.06-.94 2.06-2.06.94zm-11 1L8.5 8.5l.94-2.06 2.06-.94-2.06-.94L8.5 2.5l-.94 2.06-2.06.94zm10 10l.94 2.06.94-2.06 2.06-.94-2.06-.94-.94-2.06-.94 2.06-2.06.94z\"/><path d=\"M17.41 7.96l-1.37-1.37c-.4-.4-.92-.59-1.43-.59-.52 0-1.04.2-1.43.59L10.3 9.45l-7.72 7.72c-.78.78-.78 2.05 0 2.83L4 21.41c.39.39.9.59 1.41.59.51 0 1.02-.2 1.41-.59l7.78-7.78 2.81-2.81c.8-.78.8-2.07 0-2.86zM5.41 20L4 18.59l7.72-7.72 1.47 1.35L5.41 20z\"/>\n",
              "  </svg>\n",
              "      </button>\n",
              "      \n",
              "  <style>\n",
              "    .colab-df-container {\n",
              "      display:flex;\n",
              "      flex-wrap:wrap;\n",
              "      gap: 12px;\n",
              "    }\n",
              "\n",
              "    .colab-df-convert {\n",
              "      background-color: #E8F0FE;\n",
              "      border: none;\n",
              "      border-radius: 50%;\n",
              "      cursor: pointer;\n",
              "      display: none;\n",
              "      fill: #1967D2;\n",
              "      height: 32px;\n",
              "      padding: 0 0 0 0;\n",
              "      width: 32px;\n",
              "    }\n",
              "\n",
              "    .colab-df-convert:hover {\n",
              "      background-color: #E2EBFA;\n",
              "      box-shadow: 0px 1px 2px rgba(60, 64, 67, 0.3), 0px 1px 3px 1px rgba(60, 64, 67, 0.15);\n",
              "      fill: #174EA6;\n",
              "    }\n",
              "\n",
              "    [theme=dark] .colab-df-convert {\n",
              "      background-color: #3B4455;\n",
              "      fill: #D2E3FC;\n",
              "    }\n",
              "\n",
              "    [theme=dark] .colab-df-convert:hover {\n",
              "      background-color: #434B5C;\n",
              "      box-shadow: 0px 1px 3px 1px rgba(0, 0, 0, 0.15);\n",
              "      filter: drop-shadow(0px 1px 2px rgba(0, 0, 0, 0.3));\n",
              "      fill: #FFFFFF;\n",
              "    }\n",
              "  </style>\n",
              "\n",
              "      <script>\n",
              "        const buttonEl =\n",
              "          document.querySelector('#df-051c4ec1-e990-49ec-9aea-3485f1c8636a button.colab-df-convert');\n",
              "        buttonEl.style.display =\n",
              "          google.colab.kernel.accessAllowed ? 'block' : 'none';\n",
              "\n",
              "        async function convertToInteractive(key) {\n",
              "          const element = document.querySelector('#df-051c4ec1-e990-49ec-9aea-3485f1c8636a');\n",
              "          const dataTable =\n",
              "            await google.colab.kernel.invokeFunction('convertToInteractive',\n",
              "                                                     [key], {});\n",
              "          if (!dataTable) return;\n",
              "\n",
              "          const docLinkHtml = 'Like what you see? Visit the ' +\n",
              "            '<a target=\"_blank\" href=https://colab.research.google.com/notebooks/data_table.ipynb>data table notebook</a>'\n",
              "            + ' to learn more about interactive tables.';\n",
              "          element.innerHTML = '';\n",
              "          dataTable['output_type'] = 'display_data';\n",
              "          await google.colab.output.renderOutput(dataTable, element);\n",
              "          const docLink = document.createElement('div');\n",
              "          docLink.innerHTML = docLinkHtml;\n",
              "          element.appendChild(docLink);\n",
              "        }\n",
              "      </script>\n",
              "    </div>\n",
              "  </div>\n",
              "  "
            ]
          },
          "metadata": {},
          "execution_count": 57
        }
      ]
    },
    {
      "cell_type": "code",
      "source": [
        "#Mengubah data bertipe tanggal untuk keperluan pembelajaran mesin\n",
        "import datetime as dt\n",
        "X['orderDate'] = X['orderDate'].map(dt.datetime.toordinal)\n",
        "X['deliveryDate'] = X['deliveryDate'].map(dt.datetime.toordinal)\n",
        "X['dateOfBirth'] = X['dateOfBirth'].map(dt.datetime.toordinal)\n",
        "X['creationDate'] = X['creationDate'].map(dt.datetime.toordinal)"
      ],
      "metadata": {
        "id": "bfyR3L7uQhge"
      },
      "execution_count": 58,
      "outputs": []
    },
    {
      "cell_type": "code",
      "source": [
        "#Split Dataset, 80% sebagai data train dan 20% sisanya sebagai data test\n",
        "from sklearn.model_selection import train_test_split\n",
        "X_train,X_test,Y_train,Y_test=train_test_split(X,Y,test_size=0.2,random_state=123)"
      ],
      "metadata": {
        "id": "vdingpcDQkrJ"
      },
      "execution_count": 59,
      "outputs": []
    },
    {
      "cell_type": "code",
      "source": [
        "#Simpan nama kolom untuk keperluan prediksi nanti\n",
        "import pickle\n",
        "with open('D:\\\\Eva\\\\data\\\\pick14.pickle', 'wb') as fp:\n",
        "    pickle.dump(X_train.columns, fp)"
      ],
      "metadata": {
        "id": "BF2Az_rmQt8z"
      },
      "execution_count": 60,
      "outputs": []
    },
    {
      "cell_type": "markdown",
      "source": [
        "### Klasifikasi"
      ],
      "metadata": {
        "id": "e1ZwjhpZ4FN6"
      }
    },
    {
      "cell_type": "code",
      "source": [
        "#Naive Bayes\n",
        "from sklearn.naive_bayes import GaussianNB\n",
        "from sklearn.metrics import classification_report\n",
        "from sklearn.metrics import accuracy_score\n",
        "from sklearn.metrics import f1_score\n",
        "clf = GaussianNB()\n",
        "clf.fit(X_train, Y_train)\n",
        "Y_pred = clf.predict(X_test)\n",
        "acc = accuracy_score(Y_test, Y_pred)\n",
        "f1 = f1_score(Y_test, Y_pred)\n",
        "print(\"Akurasi {}\".format(acc))\n",
        "print(\"F1-Score {}\".format(f1))\n",
        "print(classification_report(Y_test, Y_pred))"
      ],
      "metadata": {
        "colab": {
          "base_uri": "https://localhost:8080/"
        },
        "id": "uUPtMkUIQ29m",
        "outputId": "317f638a-0ed4-488e-e783-643cface85dd"
      },
      "execution_count": 61,
      "outputs": [
        {
          "output_type": "stream",
          "name": "stdout",
          "text": [
            "Akurasi 0.5529810975102006\n",
            "F1-Score 0.6176936635390888\n",
            "              precision    recall  f1-score   support\n",
            "\n",
            "           0       0.61      0.37      0.46     49761\n",
            "           1       0.53      0.75      0.62     46311\n",
            "\n",
            "    accuracy                           0.55     96072\n",
            "   macro avg       0.57      0.56      0.54     96072\n",
            "weighted avg       0.57      0.55      0.54     96072\n",
            "\n"
          ]
        }
      ]
    },
    {
      "cell_type": "code",
      "source": [
        "#decision tree\n",
        "from sklearn import tree\n",
        "clf = tree.DecisionTreeClassifier()\n",
        "clf.fit(X_train, Y_train)\n",
        "Y_pred = clf.predict(X_test)\n",
        "acc = accuracy_score(Y_test, Y_pred)\n",
        "f1 = f1_score(Y_test, Y_pred)\n",
        "print(\"Akurasi {}\".format(acc))\n",
        "print(\"F1-Score {}\".format(f1))\n",
        "print(classification_report(Y_test, Y_pred))"
      ],
      "metadata": {
        "colab": {
          "base_uri": "https://localhost:8080/"
        },
        "id": "OEGESAY7Q5c0",
        "outputId": "b0ede921-1f64-4aa8-ea40-1826165b5819"
      },
      "execution_count": 62,
      "outputs": [
        {
          "output_type": "stream",
          "name": "stdout",
          "text": [
            "Akurasi 0.6143725539178949\n",
            "F1-Score 0.6020708470279909\n",
            "              precision    recall  f1-score   support\n",
            "\n",
            "           0       0.63      0.62      0.63     49761\n",
            "           1       0.60      0.61      0.60     46311\n",
            "\n",
            "    accuracy                           0.61     96072\n",
            "   macro avg       0.61      0.61      0.61     96072\n",
            "weighted avg       0.61      0.61      0.61     96072\n",
            "\n"
          ]
        }
      ]
    },
    {
      "cell_type": "code",
      "source": [
        "#Random Forest\n",
        "from sklearn.ensemble import RandomForestClassifier\n",
        "clf = RandomForestClassifier(n_estimators=70, random_state=123)\n",
        "clf.fit(X_train, Y_train)\n",
        "Y_pred = clf.predict(X_test)\n",
        "acc = accuracy_score(Y_test, Y_pred)\n",
        "f1 = f1_score(Y_test, Y_pred)\n",
        "print(\"Akurasi {}\".format(acc))\n",
        "print(\"F1-Score {}\".format(f1))\n",
        "print(classification_report(Y_test, Y_pred))"
      ],
      "metadata": {
        "colab": {
          "base_uri": "https://localhost:8080/"
        },
        "id": "0Jfs0Q4dQ8rs",
        "outputId": "6c2aa15b-670d-41d9-be28-d7c482157a3d"
      },
      "execution_count": 63,
      "outputs": [
        {
          "output_type": "stream",
          "name": "stdout",
          "text": [
            "Akurasi 0.6603797152135898\n",
            "F1-Score 0.6643071731346969\n",
            "              precision    recall  f1-score   support\n",
            "\n",
            "           0       0.69      0.63      0.66     49761\n",
            "           1       0.63      0.70      0.66     46311\n",
            "\n",
            "    accuracy                           0.66     96072\n",
            "   macro avg       0.66      0.66      0.66     96072\n",
            "weighted avg       0.66      0.66      0.66     96072\n",
            "\n"
          ]
        }
      ]
    },
    {
      "cell_type": "markdown",
      "source": [
        "*Dari metode machine learning di atas, akurasi dan f1-score tertinggi menggunakan random forest yaitu 0.66 dan 0.66. Tertinggi kedua oleh decision tree, terakhir oleh naive bayes.*"
      ],
      "metadata": {
        "id": "j6FgFL4R4MpE"
      }
    },
    {
      "cell_type": "code",
      "source": [
        "#Melihat fitur mana yang paling penting bagi model\n",
        "feature_importances = pd.DataFrame(clf.feature_importances_,index = X_train.columns,\n",
        "columns=['importance']).sort_values('importance',ascending=False)\n",
        "print(feature_importances)"
      ],
      "metadata": {
        "colab": {
          "base_uri": "https://localhost:8080/"
        },
        "id": "Zszs7RCtRDqv",
        "outputId": "c21f6f64-3c61-453a-98c4-d2ec7af2f582"
      },
      "execution_count": 64,
      "outputs": [
        {
          "output_type": "stream",
          "name": "stdout",
          "text": [
            "                 importance\n",
            "deliveryDate   1.486183e-01\n",
            "orderItemID    9.422652e-02\n",
            "customerID     8.377358e-02\n",
            "dateOfBirth    8.287188e-02\n",
            "orderDate      7.438448e-02\n",
            "...                     ...\n",
            "color_bronze   3.547787e-07\n",
            "color_leopard  3.426724e-07\n",
            "size_3132      2.348054e-07\n",
            "size_105       5.157676e-08\n",
            "size_110       0.000000e+00\n",
            "\n",
            "[209 rows x 1 columns]\n"
          ]
        }
      ]
    },
    {
      "cell_type": "code",
      "source": [
        "from sklearn.metrics import confusion_matrix\n",
        "print(confusion_matrix(Y_test, Y_pred))"
      ],
      "metadata": {
        "colab": {
          "base_uri": "https://localhost:8080/"
        },
        "id": "kS1dt-i2Rmfe",
        "outputId": "1c659766-e844-49e3-938b-d7185b7d1392"
      },
      "execution_count": 65,
      "outputs": [
        {
          "output_type": "stream",
          "name": "stdout",
          "text": [
            "[[31160 18601]\n",
            " [14027 32284]]\n"
          ]
        }
      ]
    },
    {
      "cell_type": "code",
      "source": [
        "plt.figure(figsize = (6, 5))\n",
        "sns.heatmap(confusion_matrix(Y_test, Y_pred), annot = True, fmt=\"d\")"
      ],
      "metadata": {
        "colab": {
          "base_uri": "https://localhost:8080/",
          "height": 337
        },
        "id": "j15LNYTtRqAq",
        "outputId": "35aab1ca-bee1-4ad8-91a7-628914fb9344"
      },
      "execution_count": 66,
      "outputs": [
        {
          "output_type": "execute_result",
          "data": {
            "text/plain": [
              "<matplotlib.axes._subplots.AxesSubplot at 0x7efcd87761d0>"
            ]
          },
          "metadata": {},
          "execution_count": 66
        },
        {
          "output_type": "display_data",
          "data": {
            "text/plain": [
              "<Figure size 432x360 with 2 Axes>"
            ],
            "image/png": "[encoded data removed]"
          },
          "metadata": {
            "needs_background": "light"
          }
        }
      ]
    },
    {
      "cell_type": "code",
      "source": [
        "#cross validation dengan random forest\n",
        "from sklearn.metrics import classification_report, accuracy_score, make_scorer\n",
        "from sklearn.model_selection import cross_val_score\n",
        "from sklearn.metrics import confusion_matrix\n",
        "def classification_report_with_score(y_true, y_pred):\n",
        "    print(classification_report(y_true, y_pred))\n",
        "    print(confusion_matrix(y_true, y_pred))\n",
        "    return accuracy_score(y_true, y_pred)\n",
        "\n",
        "clf = RandomForestClassifier(n_estimators=70, random_state=123)\n",
        "clf.fit(X_train, Y_train)\n",
        "scores = cross_val_score(clf, X=X, y=Y, cv=5, \n",
        "                         scoring=make_scorer(classification_report_with_score))\n",
        "print(scores)"
      ],
      "metadata": {
        "colab": {
          "base_uri": "https://localhost:8080/"
        },
        "id": "rJJTxrSlRsVj",
        "outputId": "4a453689-9d07-44a5-b0ad-f91e135eaa84"
      },
      "execution_count": 67,
      "outputs": [
        {
          "output_type": "stream",
          "name": "stdout",
          "text": [
            "              precision    recall  f1-score   support\n",
            "\n",
            "           0       1.00      0.19      0.32     49740\n",
            "           1       0.53      1.00      0.70     46332\n",
            "\n",
            "    accuracy                           0.58     96072\n",
            "   macro avg       0.77      0.60      0.51     96072\n",
            "weighted avg       0.78      0.58      0.50     96072\n",
            "\n",
            "[[ 9475 40265]\n",
            " [    9 46323]]\n",
            "              precision    recall  f1-score   support\n",
            "\n",
            "           0       0.52      1.00      0.68     49740\n",
            "           1       0.76      0.00      0.00     46332\n",
            "\n",
            "    accuracy                           0.52     96072\n",
            "   macro avg       0.64      0.50      0.34     96072\n",
            "weighted avg       0.63      0.52      0.35     96072\n",
            "\n",
            "[[49723    17]\n",
            " [46278    54]]\n",
            "              precision    recall  f1-score   support\n",
            "\n",
            "           0       0.51      0.54      0.53     49740\n",
            "           1       0.48      0.45      0.46     46332\n",
            "\n",
            "    accuracy                           0.50     96072\n",
            "   macro avg       0.50      0.50      0.49     96072\n",
            "weighted avg       0.50      0.50      0.50     96072\n",
            "\n",
            "[[26924 22816]\n",
            " [25516 20816]]\n",
            "              precision    recall  f1-score   support\n",
            "\n",
            "           0       0.48      0.60      0.53     49740\n",
            "           1       0.41      0.30      0.35     46331\n",
            "\n",
            "    accuracy                           0.46     96071\n",
            "   macro avg       0.45      0.45      0.44     96071\n",
            "weighted avg       0.45      0.46      0.44     96071\n",
            "\n",
            "[[30032 19708]\n",
            " [32528 13803]]\n",
            "              precision    recall  f1-score   support\n",
            "\n",
            "           0       1.00      0.00      0.00     49739\n",
            "           1       0.48      1.00      0.65     46332\n",
            "\n",
            "    accuracy                           0.48     96071\n",
            "   macro avg       0.74      0.50      0.33     96071\n",
            "weighted avg       0.75      0.48      0.31     96071\n",
            "\n",
            "[[    6 49733]\n",
            " [    0 46332]]\n",
            "[0.58079357 0.51812183 0.49691898 0.45627713 0.48233078]\n"
          ]
        }
      ]
    },
    {
      "cell_type": "code",
      "source": [
        "#simpan model dengan joblib\n",
        "import joblib as jb\n",
        "jb.dump(clf, \"D:\\\\Eva\\\\data\\\\job14.joblib\")"
      ],
      "metadata": {
        "colab": {
          "base_uri": "https://localhost:8080/"
        },
        "id": "5TvDc-6XRwFs",
        "outputId": "4f9f00b0-d73e-441f-b7a8-05e91dfc9e6b"
      },
      "execution_count": 68,
      "outputs": [
        {
          "output_type": "execute_result",
          "data": {
            "text/plain": [
              "['D:\\\\Eva\\\\data\\\\job14.joblib']"
            ]
          },
          "metadata": {},
          "execution_count": 68
        }
      ]
    },
    {
      "cell_type": "markdown",
      "source": [
        "### Prediksi"
      ],
      "metadata": {
        "id": "zIc7a5875IzJ"
      }
    },
    {
      "cell_type": "code",
      "source": [
        "#load dataset\n",
        "df2 = pd.read_csv('orders_train.txt', sep=';', na_values=[\"?\"])"
      ],
      "metadata": {
        "id": "lezyuW2YUxEN"
      },
      "execution_count": 69,
      "outputs": []
    },
    {
      "cell_type": "code",
      "source": [
        "#isi data kosong dengan data modus\n",
        "df2.fillna(df2.color.mode()[0], inplace=True)"
      ],
      "metadata": {
        "id": "hXcJzzH1VF0w"
      },
      "execution_count": 70,
      "outputs": []
    },
    {
      "cell_type": "code",
      "source": [
        "#ubah semua kata size jadi kapital\n",
        "df2['size'] = df2['size'].str.upper()"
      ],
      "metadata": {
        "id": "fgva4k6QVIY8"
      },
      "execution_count": 71,
      "outputs": []
    },
    {
      "cell_type": "code",
      "source": [
        "#hapus karakter + data size \n",
        "df2['size'] = df2['size'].str.replace('+', '')"
      ],
      "metadata": {
        "colab": {
          "base_uri": "https://localhost:8080/"
        },
        "id": "EW1efgIqVKvO",
        "outputId": "bb9faf02-3bbf-4f4a-d801-4756c2e00a27"
      },
      "execution_count": 72,
      "outputs": [
        {
          "output_type": "stream",
          "name": "stderr",
          "text": [
            "/usr/local/lib/python3.7/dist-packages/ipykernel_launcher.py:2: FutureWarning: The default value of regex will change from True to False in a future version. In addition, single character regular expressions will *not* be treated as literal strings when regex=True.\n",
            "  \n"
          ]
        }
      ]
    },
    {
      "cell_type": "code",
      "source": [
        "#ubah tipe data object menjadi category\n",
        "cat_col = [\"size\", \"color\", \"salutation\", \"state\"]\n",
        "for col in cat_col:\n",
        "    df2[col] = df2[col].astype(\"category\")"
      ],
      "metadata": {
        "id": "LKN-G2P6VNhh"
      },
      "execution_count": 73,
      "outputs": []
    },
    {
      "cell_type": "code",
      "source": [
        "#upload file\n",
        "from google.colab import files\n",
        "data_to_load = files.upload()"
      ],
      "metadata": {
        "colab": {
          "resources": {
            "http://localhost:8080/nbextensions/google.colab/files.js": {
              "data": "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",
              "ok": true,
              "headers": [
                [
                  "content-type",
                  "application/javascript"
                ]
              ],
              "status": 200,
              "status_text": ""
            }
          },
          "base_uri": "https://localhost:8080/",
          "height": 73
        },
        "id": "5AYvgzX9VQCz",
        "outputId": "71044541-b7dd-4e78-f4ff-250546aafc5f"
      },
      "execution_count": 74,
      "outputs": [
        {
          "output_type": "display_data",
          "data": {
            "text/plain": [
              "<IPython.core.display.HTML object>"
            ],
            "text/html": [
              "\n",
              "     <input type=\"file\" id=\"files-05f27809-7987-402d-bd38-d85bb0b99f65\" name=\"files[]\" multiple disabled\n",
              "        style=\"border:none\" />\n",
              "     <output id=\"result-05f27809-7987-402d-bd38-d85bb0b99f65\">\n",
              "      Upload widget is only available when the cell has been executed in the\n",
              "      current browser session. Please rerun this cell to enable.\n",
              "      </output>\n",
              "      <script src=\"/nbextensions/google.colab/files.js\"></script> "
            ]
          },
          "metadata": {}
        },
        {
          "output_type": "stream",
          "name": "stdout",
          "text": [
            "Saving orders_class.txt to orders_class.txt\n"
          ]
        }
      ]
    },
    {
      "cell_type": "code",
      "source": [
        "#load dataset\n",
        "df_pred = pd.read_csv('orders_class.txt', sep=';', na_values=[\"?\"])"
      ],
      "metadata": {
        "id": "qOzY44r-VaVS"
      },
      "execution_count": 75,
      "outputs": []
    },
    {
      "cell_type": "code",
      "source": [
        "#Menampilkan data prediksi\n",
        "df_pred.head()"
      ],
      "metadata": {
        "colab": {
          "base_uri": "https://localhost:8080/",
          "height": 206
        },
        "id": "qWpV3zYuWRQ5",
        "outputId": "9b816d5f-8e94-496a-c050-463f83dc3396"
      },
      "execution_count": 76,
      "outputs": [
        {
          "output_type": "execute_result",
          "data": {
            "text/plain": [
              "   orderItemID   orderDate deliveryDate  itemID size    color  manufacturerID  \\\n",
              "0            1  2013-04-01   2013-04-03    2347   43  magenta               1   \n",
              "1            2  2013-04-01   2013-04-03    2741   43     grey               1   \n",
              "2            3  2013-04-01   2013-04-03    2514    9     ecru              19   \n",
              "3            4  2013-04-01   2013-05-06    2347   42    brown               1   \n",
              "4            5  2013-04-01          NaN    2690   43     grey               1   \n",
              "\n",
              "   price  customerID salutation dateOfBirth  state creationDate  \n",
              "0   89.9       12489        Mrs  1963-04-26  Hesse   2012-04-23  \n",
              "1   99.9       12489        Mrs  1963-04-26  Hesse   2012-04-23  \n",
              "2   79.9       12489        Mrs  1963-04-26  Hesse   2012-04-23  \n",
              "3   89.9       12489        Mrs  1963-04-26  Hesse   2012-04-23  \n",
              "4  119.9       12489        Mrs  1963-04-26  Hesse   2012-04-23  "
            ],
            "text/html": [
              "\n",
              "  <div id=\"df-85e918b3-671b-4c1d-b020-164931c6c424\">\n",
              "    <div class=\"colab-df-container\">\n",
              "      <div>\n",
              "<style scoped>\n",
              "    .dataframe tbody tr th:only-of-type {\n",
              "        vertical-align: middle;\n",
              "    }\n",
              "\n",
              "    .dataframe tbody tr th {\n",
              "        vertical-align: top;\n",
              "    }\n",
              "\n",
              "    .dataframe thead th {\n",
              "        text-align: right;\n",
              "    }\n",
              "</style>\n",
              "<table border=\"1\" class=\"dataframe\">\n",
              "  <thead>\n",
              "    <tr style=\"text-align: right;\">\n",
              "      <th></th>\n",
              "      <th>orderItemID</th>\n",
              "      <th>orderDate</th>\n",
              "      <th>deliveryDate</th>\n",
              "      <th>itemID</th>\n",
              "      <th>size</th>\n",
              "      <th>color</th>\n",
              "      <th>manufacturerID</th>\n",
              "      <th>price</th>\n",
              "      <th>customerID</th>\n",
              "      <th>salutation</th>\n",
              "      <th>dateOfBirth</th>\n",
              "      <th>state</th>\n",
              "      <th>creationDate</th>\n",
              "    </tr>\n",
              "  </thead>\n",
              "  <tbody>\n",
              "    <tr>\n",
              "      <th>0</th>\n",
              "      <td>1</td>\n",
              "      <td>2013-04-01</td>\n",
              "      <td>2013-04-03</td>\n",
              "      <td>2347</td>\n",
              "      <td>43</td>\n",
              "      <td>magenta</td>\n",
              "      <td>1</td>\n",
              "      <td>89.9</td>\n",
              "      <td>12489</td>\n",
              "      <td>Mrs</td>\n",
              "      <td>1963-04-26</td>\n",
              "      <td>Hesse</td>\n",
              "      <td>2012-04-23</td>\n",
              "    </tr>\n",
              "    <tr>\n",
              "      <th>1</th>\n",
              "      <td>2</td>\n",
              "      <td>2013-04-01</td>\n",
              "      <td>2013-04-03</td>\n",
              "      <td>2741</td>\n",
              "      <td>43</td>\n",
              "      <td>grey</td>\n",
              "      <td>1</td>\n",
              "      <td>99.9</td>\n",
              "      <td>12489</td>\n",
              "      <td>Mrs</td>\n",
              "      <td>1963-04-26</td>\n",
              "      <td>Hesse</td>\n",
              "      <td>2012-04-23</td>\n",
              "    </tr>\n",
              "    <tr>\n",
              "      <th>2</th>\n",
              "      <td>3</td>\n",
              "      <td>2013-04-01</td>\n",
              "      <td>2013-04-03</td>\n",
              "      <td>2514</td>\n",
              "      <td>9</td>\n",
              "      <td>ecru</td>\n",
              "      <td>19</td>\n",
              "      <td>79.9</td>\n",
              "      <td>12489</td>\n",
              "      <td>Mrs</td>\n",
              "      <td>1963-04-26</td>\n",
              "      <td>Hesse</td>\n",
              "      <td>2012-04-23</td>\n",
              "    </tr>\n",
              "    <tr>\n",
              "      <th>3</th>\n",
              "      <td>4</td>\n",
              "      <td>2013-04-01</td>\n",
              "      <td>2013-05-06</td>\n",
              "      <td>2347</td>\n",
              "      <td>42</td>\n",
              "      <td>brown</td>\n",
              "      <td>1</td>\n",
              "      <td>89.9</td>\n",
              "      <td>12489</td>\n",
              "      <td>Mrs</td>\n",
              "      <td>1963-04-26</td>\n",
              "      <td>Hesse</td>\n",
              "      <td>2012-04-23</td>\n",
              "    </tr>\n",
              "    <tr>\n",
              "      <th>4</th>\n",
              "      <td>5</td>\n",
              "      <td>2013-04-01</td>\n",
              "      <td>NaN</td>\n",
              "      <td>2690</td>\n",
              "      <td>43</td>\n",
              "      <td>grey</td>\n",
              "      <td>1</td>\n",
              "      <td>119.9</td>\n",
              "      <td>12489</td>\n",
              "      <td>Mrs</td>\n",
              "      <td>1963-04-26</td>\n",
              "      <td>Hesse</td>\n",
              "      <td>2012-04-23</td>\n",
              "    </tr>\n",
              "  </tbody>\n",
              "</table>\n",
              "</div>\n",
              "      <button class=\"colab-df-convert\" onclick=\"convertToInteractive('df-85e918b3-671b-4c1d-b020-164931c6c424')\"\n",
              "              title=\"Convert this dataframe to an interactive table.\"\n",
              "              style=\"display:none;\">\n",
              "        \n",
              "  <svg xmlns=\"http://www.w3.org/2000/svg\" height=\"24px\"viewBox=\"0 0 24 24\"\n",
              "       width=\"24px\">\n",
              "    <path d=\"M0 0h24v24H0V0z\" fill=\"none\"/>\n",
              "    <path d=\"M18.56 5.44l.94 2.06.94-2.06 2.06-.94-2.06-.94-.94-2.06-.94 2.06-2.06.94zm-11 1L8.5 8.5l.94-2.06 2.06-.94-2.06-.94L8.5 2.5l-.94 2.06-2.06.94zm10 10l.94 2.06.94-2.06 2.06-.94-2.06-.94-.94-2.06-.94 2.06-2.06.94z\"/><path d=\"M17.41 7.96l-1.37-1.37c-.4-.4-.92-.59-1.43-.59-.52 0-1.04.2-1.43.59L10.3 9.45l-7.72 7.72c-.78.78-.78 2.05 0 2.83L4 21.41c.39.39.9.59 1.41.59.51 0 1.02-.2 1.41-.59l7.78-7.78 2.81-2.81c.8-.78.8-2.07 0-2.86zM5.41 20L4 18.59l7.72-7.72 1.47 1.35L5.41 20z\"/>\n",
              "  </svg>\n",
              "      </button>\n",
              "      \n",
              "  <style>\n",
              "    .colab-df-container {\n",
              "      display:flex;\n",
              "      flex-wrap:wrap;\n",
              "      gap: 12px;\n",
              "    }\n",
              "\n",
              "    .colab-df-convert {\n",
              "      background-color: #E8F0FE;\n",
              "      border: none;\n",
              "      border-radius: 50%;\n",
              "      cursor: pointer;\n",
              "      display: none;\n",
              "      fill: #1967D2;\n",
              "      height: 32px;\n",
              "      padding: 0 0 0 0;\n",
              "      width: 32px;\n",
              "    }\n",
              "\n",
              "    .colab-df-convert:hover {\n",
              "      background-color: #E2EBFA;\n",
              "      box-shadow: 0px 1px 2px rgba(60, 64, 67, 0.3), 0px 1px 3px 1px rgba(60, 64, 67, 0.15);\n",
              "      fill: #174EA6;\n",
              "    }\n",
              "\n",
              "    [theme=dark] .colab-df-convert {\n",
              "      background-color: #3B4455;\n",
              "      fill: #D2E3FC;\n",
              "    }\n",
              "\n",
              "    [theme=dark] .colab-df-convert:hover {\n",
              "      background-color: #434B5C;\n",
              "      box-shadow: 0px 1px 3px 1px rgba(0, 0, 0, 0.15);\n",
              "      filter: drop-shadow(0px 1px 2px rgba(0, 0, 0, 0.3));\n",
              "      fill: #FFFFFF;\n",
              "    }\n",
              "  </style>\n",
              "\n",
              "      <script>\n",
              "        const buttonEl =\n",
              "          document.querySelector('#df-85e918b3-671b-4c1d-b020-164931c6c424 button.colab-df-convert');\n",
              "        buttonEl.style.display =\n",
              "          google.colab.kernel.accessAllowed ? 'block' : 'none';\n",
              "\n",
              "        async function convertToInteractive(key) {\n",
              "          const element = document.querySelector('#df-85e918b3-671b-4c1d-b020-164931c6c424');\n",
              "          const dataTable =\n",
              "            await google.colab.kernel.invokeFunction('convertToInteractive',\n",
              "                                                     [key], {});\n",
              "          if (!dataTable) return;\n",
              "\n",
              "          const docLinkHtml = 'Like what you see? Visit the ' +\n",
              "            '<a target=\"_blank\" href=https://colab.research.google.com/notebooks/data_table.ipynb>data table notebook</a>'\n",
              "            + ' to learn more about interactive tables.';\n",
              "          element.innerHTML = '';\n",
              "          dataTable['output_type'] = 'display_data';\n",
              "          await google.colab.output.renderOutput(dataTable, element);\n",
              "          const docLink = document.createElement('div');\n",
              "          docLink.innerHTML = docLinkHtml;\n",
              "          element.appendChild(docLink);\n",
              "        }\n",
              "      </script>\n",
              "    </div>\n",
              "  </div>\n",
              "  "
            ]
          },
          "metadata": {},
          "execution_count": 76
        }
      ]
    },
    {
      "cell_type": "code",
      "source": [
        "#Melihat detail atribut dan tipe data prediksi\n",
        "df_pred.info()"
      ],
      "metadata": {
        "colab": {
          "base_uri": "https://localhost:8080/"
        },
        "id": "Bm13-lQRWT_U",
        "outputId": "58ad58b4-877a-4c09-ee97-8c805c12ec16"
      },
      "execution_count": 77,
      "outputs": [
        {
          "output_type": "stream",
          "name": "stdout",
          "text": [
            "<class 'pandas.core.frame.DataFrame'>\n",
            "RangeIndex: 50078 entries, 0 to 50077\n",
            "Data columns (total 13 columns):\n",
            " #   Column          Non-Null Count  Dtype  \n",
            "---  ------          --------------  -----  \n",
            " 0   orderItemID     50078 non-null  int64  \n",
            " 1   orderDate       50078 non-null  object \n",
            " 2   deliveryDate    45810 non-null  object \n",
            " 3   itemID          50078 non-null  int64  \n",
            " 4   size            50078 non-null  object \n",
            " 5   color           50078 non-null  object \n",
            " 6   manufacturerID  50078 non-null  int64  \n",
            " 7   price           50078 non-null  float64\n",
            " 8   customerID      50078 non-null  int64  \n",
            " 9   salutation      50078 non-null  object \n",
            " 10  dateOfBirth     44909 non-null  object \n",
            " 11  state           50078 non-null  object \n",
            " 12  creationDate    50078 non-null  object \n",
            "dtypes: float64(1), int64(4), object(8)\n",
            "memory usage: 5.0+ MB\n"
          ]
        }
      ]
    },
    {
      "cell_type": "code",
      "source": [
        "#data kosong prediksi\n",
        "df_pred.isnull().sum()"
      ],
      "metadata": {
        "colab": {
          "base_uri": "https://localhost:8080/"
        },
        "id": "cqLXKVVQWXcE",
        "outputId": "9a6a5c6a-8cd4-4786-b0e2-0d995482ad52"
      },
      "execution_count": 78,
      "outputs": [
        {
          "output_type": "execute_result",
          "data": {
            "text/plain": [
              "orderItemID          0\n",
              "orderDate            0\n",
              "deliveryDate      4268\n",
              "itemID               0\n",
              "size                 0\n",
              "color                0\n",
              "manufacturerID       0\n",
              "price                0\n",
              "customerID           0\n",
              "salutation           0\n",
              "dateOfBirth       5169\n",
              "state                0\n",
              "creationDate         0\n",
              "dtype: int64"
            ]
          },
          "metadata": {},
          "execution_count": 78
        }
      ]
    },
    {
      "cell_type": "markdown",
      "source": [
        "##### Penanganan data kosong pada data prediksi sama dengan penanganan pada data kosong data training"
      ],
      "metadata": {
        "id": "26pcLRIP5ReD"
      }
    },
    {
      "cell_type": "code",
      "source": [
        "#konversi data atribut orderDate menjadi datetime64[ns]\n",
        "df_pred[\"deliveryDate\"] = df_pred[\"deliveryDate\"].astype(\"datetime64[ns]\")\n",
        "\n",
        "#konversi data atribut orderDate menjadi datetime64[ns]\n",
        "df_pred[\"dateOfBirth\"] = df_pred[\"dateOfBirth\"].astype(\"datetime64[ns]\")"
      ],
      "metadata": {
        "id": "zayOt_VVWaRm"
      },
      "execution_count": 79,
      "outputs": []
    },
    {
      "cell_type": "code",
      "source": [
        "#melihat nilai maks dan min dari tanggal pada atribut deliveryDate dan dateOfBirth yang masih memiliki nilai null\n",
        "print(\"Tanggal Maks deliveryDate :\", df_pred.deliveryDate.max(), \"| Tanggal Min deliveryDate :\", df_pred.deliveryDate.min())\n",
        "print(\"Tanggal Maks dateOfBirth :\", df_pred.dateOfBirth.max(), \"| Tanggal Min dateOfBirth :\", df_pred.dateOfBirth.min())"
      ],
      "metadata": {
        "colab": {
          "base_uri": "https://localhost:8080/"
        },
        "id": "MQaxRGncWdwF",
        "outputId": "e24bfb8f-fac0-4444-96cf-7c551c32c7e9"
      },
      "execution_count": 80,
      "outputs": [
        {
          "output_type": "stream",
          "name": "stdout",
          "text": [
            "Tanggal Maks deliveryDate : 2013-07-23 00:00:00 | Tanggal Min deliveryDate : 1990-12-31 00:00:00\n",
            "Tanggal Maks dateOfBirth : 2012-11-18 00:00:00 | Tanggal Min dateOfBirth : 1900-11-19 00:00:00\n"
          ]
        }
      ]
    },
    {
      "cell_type": "code",
      "source": [
        "#mengisi data kosong deliveryDate dengan nilai maks pada data deliveryDate\n",
        "df_pred[\"deliveryDate\"].fillna(pd.Timestamp('20130723'), inplace=True)\n",
        "\n",
        "#mengisi data kosong dateofbirth dengan awal tanggal dan bulan tahun minimal pada data dateofbirth\n",
        "df_pred[\"dateOfBirth\"].fillna(pd.Timestamp('19000101'), inplace=True)"
      ],
      "metadata": {
        "id": "nC7Q9wEJWgQu"
      },
      "execution_count": 81,
      "outputs": []
    },
    {
      "cell_type": "code",
      "source": [
        "#cek kembali data kosong prediksi\n",
        "df_pred.isnull().sum()"
      ],
      "metadata": {
        "colab": {
          "base_uri": "https://localhost:8080/"
        },
        "id": "m-NmezQ_WiSy",
        "outputId": "8c4fbf1e-54eb-46c8-d7d9-7e6bfaf8da2e"
      },
      "execution_count": 82,
      "outputs": [
        {
          "output_type": "execute_result",
          "data": {
            "text/plain": [
              "orderItemID       0\n",
              "orderDate         0\n",
              "deliveryDate      0\n",
              "itemID            0\n",
              "size              0\n",
              "color             0\n",
              "manufacturerID    0\n",
              "price             0\n",
              "customerID        0\n",
              "salutation        0\n",
              "dateOfBirth       0\n",
              "state             0\n",
              "creationDate      0\n",
              "dtype: int64"
            ]
          },
          "metadata": {},
          "execution_count": 82
        }
      ]
    },
    {
      "cell_type": "code",
      "source": [
        "#mengubah isi data size yang ukurannya huruf kecil dengan huruf kapital agar terhitung menjadi jenis yang sama.\n",
        "df_pred['size'] = df_pred['size'].str.upper()"
      ],
      "metadata": {
        "id": "XBW7w730WlKT"
      },
      "execution_count": 83,
      "outputs": []
    },
    {
      "cell_type": "code",
      "source": [
        "#menghilangkan karakter \"+\"\n",
        "df_pred['size'] = df_pred['size'].str.replace('+', '')"
      ],
      "metadata": {
        "colab": {
          "base_uri": "https://localhost:8080/"
        },
        "id": "ayi5y59FWnn0",
        "outputId": "88b09e35-2355-41f3-edb8-08a0e0b1a509"
      },
      "execution_count": 84,
      "outputs": [
        {
          "output_type": "stream",
          "name": "stderr",
          "text": [
            "/usr/local/lib/python3.7/dist-packages/ipykernel_launcher.py:2: FutureWarning: The default value of regex will change from True to False in a future version. In addition, single character regular expressions will *not* be treated as literal strings when regex=True.\n",
            "  \n"
          ]
        }
      ]
    },
    {
      "cell_type": "code",
      "source": [
        "#cek atribut dengan tipe data objek\n",
        "df_obj= df_pred.select_dtypes(include = ['object'])\n",
        "df_obj.head()"
      ],
      "metadata": {
        "colab": {
          "base_uri": "https://localhost:8080/",
          "height": 206
        },
        "id": "KyENAVYEWplp",
        "outputId": "1ea6bc09-fabb-4d10-a132-e5c953aa8629"
      },
      "execution_count": 85,
      "outputs": [
        {
          "output_type": "execute_result",
          "data": {
            "text/plain": [
              "    orderDate size    color salutation  state creationDate\n",
              "0  2013-04-01   43  magenta        Mrs  Hesse   2012-04-23\n",
              "1  2013-04-01   43     grey        Mrs  Hesse   2012-04-23\n",
              "2  2013-04-01    9     ecru        Mrs  Hesse   2012-04-23\n",
              "3  2013-04-01   42    brown        Mrs  Hesse   2012-04-23\n",
              "4  2013-04-01   43     grey        Mrs  Hesse   2012-04-23"
            ],
            "text/html": [
              "\n",
              "  <div id=\"df-33bf7b76-1760-48a8-a36f-35ff5b49df3d\">\n",
              "    <div class=\"colab-df-container\">\n",
              "      <div>\n",
              "<style scoped>\n",
              "    .dataframe tbody tr th:only-of-type {\n",
              "        vertical-align: middle;\n",
              "    }\n",
              "\n",
              "    .dataframe tbody tr th {\n",
              "        vertical-align: top;\n",
              "    }\n",
              "\n",
              "    .dataframe thead th {\n",
              "        text-align: right;\n",
              "    }\n",
              "</style>\n",
              "<table border=\"1\" class=\"dataframe\">\n",
              "  <thead>\n",
              "    <tr style=\"text-align: right;\">\n",
              "      <th></th>\n",
              "      <th>orderDate</th>\n",
              "      <th>size</th>\n",
              "      <th>color</th>\n",
              "      <th>salutation</th>\n",
              "      <th>state</th>\n",
              "      <th>creationDate</th>\n",
              "    </tr>\n",
              "  </thead>\n",
              "  <tbody>\n",
              "    <tr>\n",
              "      <th>0</th>\n",
              "      <td>2013-04-01</td>\n",
              "      <td>43</td>\n",
              "      <td>magenta</td>\n",
              "      <td>Mrs</td>\n",
              "      <td>Hesse</td>\n",
              "      <td>2012-04-23</td>\n",
              "    </tr>\n",
              "    <tr>\n",
              "      <th>1</th>\n",
              "      <td>2013-04-01</td>\n",
              "      <td>43</td>\n",
              "      <td>grey</td>\n",
              "      <td>Mrs</td>\n",
              "      <td>Hesse</td>\n",
              "      <td>2012-04-23</td>\n",
              "    </tr>\n",
              "    <tr>\n",
              "      <th>2</th>\n",
              "      <td>2013-04-01</td>\n",
              "      <td>9</td>\n",
              "      <td>ecru</td>\n",
              "      <td>Mrs</td>\n",
              "      <td>Hesse</td>\n",
              "      <td>2012-04-23</td>\n",
              "    </tr>\n",
              "    <tr>\n",
              "      <th>3</th>\n",
              "      <td>2013-04-01</td>\n",
              "      <td>42</td>\n",
              "      <td>brown</td>\n",
              "      <td>Mrs</td>\n",
              "      <td>Hesse</td>\n",
              "      <td>2012-04-23</td>\n",
              "    </tr>\n",
              "    <tr>\n",
              "      <th>4</th>\n",
              "      <td>2013-04-01</td>\n",
              "      <td>43</td>\n",
              "      <td>grey</td>\n",
              "      <td>Mrs</td>\n",
              "      <td>Hesse</td>\n",
              "      <td>2012-04-23</td>\n",
              "    </tr>\n",
              "  </tbody>\n",
              "</table>\n",
              "</div>\n",
              "      <button class=\"colab-df-convert\" onclick=\"convertToInteractive('df-33bf7b76-1760-48a8-a36f-35ff5b49df3d')\"\n",
              "              title=\"Convert this dataframe to an interactive table.\"\n",
              "              style=\"display:none;\">\n",
              "        \n",
              "  <svg xmlns=\"http://www.w3.org/2000/svg\" height=\"24px\"viewBox=\"0 0 24 24\"\n",
              "       width=\"24px\">\n",
              "    <path d=\"M0 0h24v24H0V0z\" fill=\"none\"/>\n",
              "    <path d=\"M18.56 5.44l.94 2.06.94-2.06 2.06-.94-2.06-.94-.94-2.06-.94 2.06-2.06.94zm-11 1L8.5 8.5l.94-2.06 2.06-.94-2.06-.94L8.5 2.5l-.94 2.06-2.06.94zm10 10l.94 2.06.94-2.06 2.06-.94-2.06-.94-.94-2.06-.94 2.06-2.06.94z\"/><path d=\"M17.41 7.96l-1.37-1.37c-.4-.4-.92-.59-1.43-.59-.52 0-1.04.2-1.43.59L10.3 9.45l-7.72 7.72c-.78.78-.78 2.05 0 2.83L4 21.41c.39.39.9.59 1.41.59.51 0 1.02-.2 1.41-.59l7.78-7.78 2.81-2.81c.8-.78.8-2.07 0-2.86zM5.41 20L4 18.59l7.72-7.72 1.47 1.35L5.41 20z\"/>\n",
              "  </svg>\n",
              "      </button>\n",
              "      \n",
              "  <style>\n",
              "    .colab-df-container {\n",
              "      display:flex;\n",
              "      flex-wrap:wrap;\n",
              "      gap: 12px;\n",
              "    }\n",
              "\n",
              "    .colab-df-convert {\n",
              "      background-color: #E8F0FE;\n",
              "      border: none;\n",
              "      border-radius: 50%;\n",
              "      cursor: pointer;\n",
              "      display: none;\n",
              "      fill: #1967D2;\n",
              "      height: 32px;\n",
              "      padding: 0 0 0 0;\n",
              "      width: 32px;\n",
              "    }\n",
              "\n",
              "    .colab-df-convert:hover {\n",
              "      background-color: #E2EBFA;\n",
              "      box-shadow: 0px 1px 2px rgba(60, 64, 67, 0.3), 0px 1px 3px 1px rgba(60, 64, 67, 0.15);\n",
              "      fill: #174EA6;\n",
              "    }\n",
              "\n",
              "    [theme=dark] .colab-df-convert {\n",
              "      background-color: #3B4455;\n",
              "      fill: #D2E3FC;\n",
              "    }\n",
              "\n",
              "    [theme=dark] .colab-df-convert:hover {\n",
              "      background-color: #434B5C;\n",
              "      box-shadow: 0px 1px 3px 1px rgba(0, 0, 0, 0.15);\n",
              "      filter: drop-shadow(0px 1px 2px rgba(0, 0, 0, 0.3));\n",
              "      fill: #FFFFFF;\n",
              "    }\n",
              "  </style>\n",
              "\n",
              "      <script>\n",
              "        const buttonEl =\n",
              "          document.querySelector('#df-33bf7b76-1760-48a8-a36f-35ff5b49df3d button.colab-df-convert');\n",
              "        buttonEl.style.display =\n",
              "          google.colab.kernel.accessAllowed ? 'block' : 'none';\n",
              "\n",
              "        async function convertToInteractive(key) {\n",
              "          const element = document.querySelector('#df-33bf7b76-1760-48a8-a36f-35ff5b49df3d');\n",
              "          const dataTable =\n",
              "            await google.colab.kernel.invokeFunction('convertToInteractive',\n",
              "                                                     [key], {});\n",
              "          if (!dataTable) return;\n",
              "\n",
              "          const docLinkHtml = 'Like what you see? Visit the ' +\n",
              "            '<a target=\"_blank\" href=https://colab.research.google.com/notebooks/data_table.ipynb>data table notebook</a>'\n",
              "            + ' to learn more about interactive tables.';\n",
              "          element.innerHTML = '';\n",
              "          dataTable['output_type'] = 'display_data';\n",
              "          await google.colab.output.renderOutput(dataTable, element);\n",
              "          const docLink = document.createElement('div');\n",
              "          docLink.innerHTML = docLinkHtml;\n",
              "          element.appendChild(docLink);\n",
              "        }\n",
              "      </script>\n",
              "    </div>\n",
              "  </div>\n",
              "  "
            ]
          },
          "metadata": {},
          "execution_count": 85
        }
      ]
    },
    {
      "cell_type": "code",
      "source": [
        "#konversi data tipe objek menjadi kategori\n",
        "#mengubah type data objek selain format tanggal menjadi kategori\n",
        "kategori = ['size', 'color', 'salutation', 'state']\n",
        "#Looping untuk merubah type data'\n",
        "for column in kategori:\n",
        "    df_pred[column] = df_pred[column].astype('category')"
      ],
      "metadata": {
        "id": "EjyCJeUMWrpz"
      },
      "execution_count": 86,
      "outputs": []
    },
    {
      "cell_type": "code",
      "source": [
        "#mengubah type data objek dengan format tanggal menjadi datetime64[ns]\n",
        "#konversi data atribut orderDate menjadi datetime64[ns]\n",
        "df_pred[\"orderDate\"] = df_pred[\"orderDate\"].astype(\"datetime64[ns]\")\n",
        "#Konversi data atribut creationDate menjadi datetime64[ns]\n",
        "df_pred[\"creationDate\"] = df_pred[\"creationDate\"].astype(\"datetime64[ns]\")"
      ],
      "metadata": {
        "id": "gtRakGymWuaF"
      },
      "execution_count": 87,
      "outputs": []
    },
    {
      "cell_type": "code",
      "source": [
        "df_pred.info()"
      ],
      "metadata": {
        "colab": {
          "base_uri": "https://localhost:8080/"
        },
        "id": "-VK8ik3AWw3u",
        "outputId": "dbe29224-9b3f-4b0d-e42a-7f3c60ac1f12"
      },
      "execution_count": 88,
      "outputs": [
        {
          "output_type": "stream",
          "name": "stdout",
          "text": [
            "<class 'pandas.core.frame.DataFrame'>\n",
            "RangeIndex: 50078 entries, 0 to 50077\n",
            "Data columns (total 13 columns):\n",
            " #   Column          Non-Null Count  Dtype         \n",
            "---  ------          --------------  -----         \n",
            " 0   orderItemID     50078 non-null  int64         \n",
            " 1   orderDate       50078 non-null  datetime64[ns]\n",
            " 2   deliveryDate    50078 non-null  datetime64[ns]\n",
            " 3   itemID          50078 non-null  int64         \n",
            " 4   size            50078 non-null  category      \n",
            " 5   color           50078 non-null  category      \n",
            " 6   manufacturerID  50078 non-null  int64         \n",
            " 7   price           50078 non-null  float64       \n",
            " 8   customerID      50078 non-null  int64         \n",
            " 9   salutation      50078 non-null  category      \n",
            " 10  dateOfBirth     50078 non-null  datetime64[ns]\n",
            " 11  state           50078 non-null  category      \n",
            " 12  creationDate    50078 non-null  datetime64[ns]\n",
            "dtypes: category(4), datetime64[ns](4), float64(1), int64(4)\n",
            "memory usage: 3.6 MB\n"
          ]
        }
      ]
    },
    {
      "cell_type": "code",
      "source": [
        "from pandas.api.types import CategoricalDtype\n",
        "cat_col = [\"size\", \"color\", \"salutation\", \"state\"]\n",
        "for col in cat_col:\n",
        "    ktg = CategoricalDtype(categories = df2[col].cat.categories, ordered=True)\n",
        "    df_pred[col] = df_pred[col].astype(ktg)"
      ],
      "metadata": {
        "id": "Putd_nwEWzGv"
      },
      "execution_count": 89,
      "outputs": []
    },
    {
      "cell_type": "code",
      "source": [
        "#mengaplikasikan one hot encoding untuk data bertipe categorical pada data prediksi\n",
        "df_pred=pd.get_dummies(data=df_pred, columns=['size', 'color', 'salutation', 'state'])"
      ],
      "metadata": {
        "id": "-WbDfvywW2Il"
      },
      "execution_count": 90,
      "outputs": []
    },
    {
      "cell_type": "code",
      "source": [
        "df_pred.info()"
      ],
      "metadata": {
        "colab": {
          "base_uri": "https://localhost:8080/"
        },
        "id": "BuFb6zIwW5VG",
        "outputId": "8372e042-8ec8-4fb5-eaf0-fb984f090741"
      },
      "execution_count": 91,
      "outputs": [
        {
          "output_type": "stream",
          "name": "stdout",
          "text": [
            "<class 'pandas.core.frame.DataFrame'>\n",
            "RangeIndex: 50078 entries, 0 to 50077\n",
            "Columns: 209 entries, orderItemID to state_Thuringia\n",
            "dtypes: datetime64[ns](4), float64(1), int64(4), uint8(200)\n",
            "memory usage: 13.0 MB\n"
          ]
        }
      ]
    },
    {
      "cell_type": "code",
      "source": [
        "#mengubah data tanggal \n",
        "import datetime as dt\n",
        "df_pred['orderDate'] = df_pred['orderDate'].map(dt.datetime.toordinal)\n",
        "df_pred['deliveryDate'] = df_pred['deliveryDate'].map(dt.datetime.toordinal)\n",
        "df_pred['dateOfBirth'] = df_pred['dateOfBirth'].map(dt.datetime.toordinal)\n",
        "df_pred['creationDate'] = df_pred['creationDate'].map(dt.datetime.toordinal)"
      ],
      "metadata": {
        "id": "NWymjeRCW7tq"
      },
      "execution_count": 92,
      "outputs": []
    },
    {
      "cell_type": "code",
      "source": [
        "with open ('D:\\\\Eva\\\\data\\\\pick14.pickle', 'rb') as fp:\n",
        "    X_train_column = list(pickle.load(fp))\n",
        "    \n",
        "df_pred = df_pred[X_train_column]"
      ],
      "metadata": {
        "id": "iK_rD8QGW-V2"
      },
      "execution_count": 93,
      "outputs": []
    },
    {
      "cell_type": "code",
      "source": [
        "#Prediksi dengan model yang sudah disimpan\n",
        "clf = jb.load(\"D:\\\\Eva\\\\data\\\\job14.joblib\")\n",
        "result = clf.predict(df_pred)"
      ],
      "metadata": {
        "id": "xlSOlvwvXB_z"
      },
      "execution_count": 94,
      "outputs": []
    },
    {
      "cell_type": "code",
      "source": [
        "print(result[:100])"
      ],
      "metadata": {
        "colab": {
          "base_uri": "https://localhost:8080/"
        },
        "id": "WriYzPSmXFtQ",
        "outputId": "59c15c87-0682-42da-c0a6-03bbbc5c2c7d"
      },
      "execution_count": 95,
      "outputs": [
        {
          "output_type": "stream",
          "name": "stdout",
          "text": [
            "[0 0 0 0 0 1 0 0 0 0 0 0 0 0 0 0 0 0 1 0 0 0 0 1 0 0 1 0 1 1 0 0 1 0 0 0 0\n",
            " 0 0 0 0 0 0 0 0 1 0 1 0 0 0 0 0 0 0 0 0 1 0 1 0 1 0 0 0 0 0 1 0 0 0 1 0 0\n",
            " 0 0 0 0 0 1 0 0 0 0 0 1 1 0 1 0 1 1 0 0 0 1 0 0 1 0]\n"
          ]
        }
      ]
    },
    {
      "cell_type": "code",
      "source": [
        "#visualisasi hasil prediksi\n",
        "sns.countplot(x=result, data = df_pred)"
      ],
      "metadata": {
        "colab": {
          "base_uri": "https://localhost:8080/",
          "height": 282
        },
        "id": "qDv7lNZBXJHH",
        "outputId": "4b1dc5af-beed-410f-cfd0-08f113b6efab"
      },
      "execution_count": 96,
      "outputs": [
        {
          "output_type": "execute_result",
          "data": {
            "text/plain": [
              "<matplotlib.axes._subplots.AxesSubplot at 0x7efcd46efc50>"
            ]
          },
          "metadata": {},
          "execution_count": 96
        },
        {
          "output_type": "display_data",
          "data": {
            "text/plain": [
              "<Figure size 432x288 with 1 Axes>"
            ],
            "image/png": "[encoded data removed]"
          },
          "metadata": {
            "needs_background": "light"
          }
        }
      ]
    },
    {
      "cell_type": "code",
      "source": [
        "#Hasil prediksi\n",
        "shipment_predict = len(result)\n",
        "save_count = len(result[result == 0]) #barang disimpan\n",
        "return_count = len(result[result == 1]) #barang dikembalikan\n",
        "save_percentage = round(save_count/shipment_predict*100, 2)\n",
        "return_percentage = round(return_count/shipment_predict*100, 2)\n",
        "\n",
        "print('Total shipment {}'.format(shipment_predict))\n",
        "print('Barang tidak dikembalikan {}'.format(save_count))\n",
        "print('Barang dikembalikan {}'.format(return_count))\n",
        "print('Persentase tidak dikembalikan {}%'.format(save_percentage))\n",
        "print('Persentase dikembalikan {}%'.format(return_percentage))"
      ],
      "metadata": {
        "colab": {
          "base_uri": "https://localhost:8080/"
        },
        "id": "eLTN4jtaXLou",
        "outputId": "6b8217d6-6d9a-40aa-8570-6a02a5ab4da5"
      },
      "execution_count": 97,
      "outputs": [
        {
          "output_type": "stream",
          "name": "stdout",
          "text": [
            "Total shipment 50078\n",
            "Barang tidak dikembalikan 37612\n",
            "Barang dikembalikan 12466\n",
            "Persentase tidak dikembalikan 75.11%\n",
            "Persentase dikembalikan 24.89%\n"
          ]
        }
      ]
    },
    {
      "cell_type": "code",
      "source": [
        "#Visualisasi jumlah data prediksi yang tidak mengembalikan dan mengembalikan \n",
        "plt.figure(figsize=(6,8))\n",
        "ax = sns.countplot(x=result, data = df_pred)\n",
        "plt.title('Pediksi Data Baru')\n",
        "plt.xlabel('Return Shipment')\n",
        "plt.ylabel('Count Return Shipment')\n",
        "\n",
        "for p in ax.patches:\n",
        "        ax.annotate(format(p.get_height(), 'd'), (p.get_x() + p.get_width() / 2., p.get_height()), \n",
        "                    ha = 'center', va = 'center', xytext = (0, 10), textcoords = 'offset points')"
      ],
      "metadata": {
        "colab": {
          "base_uri": "https://localhost:8080/",
          "height": 513
        },
        "id": "f3Yqxtu8XOub",
        "outputId": "0d7079f3-0b5b-4160-ff8b-553be4a30765"
      },
      "execution_count": 98,
      "outputs": [
        {
          "output_type": "display_data",
          "data": {
            "text/plain": [
              "<Figure size 432x576 with 1 Axes>"
            ],
            "image/png": "[encoded data removed]"
          },
          "metadata": {
            "needs_background": "light"
          }
        }
      ]
    },
    {
      "cell_type": "code",
      "source": [
        "#Visualisasi persentase data prediksi yang tidak mengembalikan dan mengembalikan \n",
        "plt.figure(figsize=(6,8))\n",
        "total = float(len(df_pred))\n",
        "ax = sns.countplot(x=result, data=df_pred)\n",
        "plt.title('Persentase Prediksi Return Shipment', fontsize=14)\n",
        "\n",
        "for p in ax.patches:\n",
        "        ax.annotate(format(100 * p.get_height()/total, '.2f') + '%', (p.get_x() + p.get_width() / 2., p.get_height()), \n",
        "                    ha = 'center', va = 'center', xytext = (0, 10), textcoords = 'offset points')"
      ],
      "metadata": {
        "colab": {
          "base_uri": "https://localhost:8080/",
          "height": 500
        },
        "id": "i2cLJ594XQ5X",
        "outputId": "b384a42a-762d-40b1-a162-fe26cc9612d9"
      },
      "execution_count": 99,
      "outputs": [
        {
          "output_type": "display_data",
          "data": {
            "text/plain": [
              "<Figure size 432x576 with 1 Axes>"
            ],
            "image/png": "[encoded data removed]"
          },
          "metadata": {
            "needs_background": "light"
          }
        }
      ]
    },
    {
      "cell_type": "markdown",
      "source": [
        "*Dari hasil prediksi di atas yang memprediksi apakah ada pengembalian barang pada pembelian berdasarkan data pembelian baru toko tersebut.\n",
        "Terdapat pengembalian barang tetapi lebih banyak yang tidak mengembalikan barang, di mana sebanyak 75.11$ tidak mengembalikan pesanan sedangkan sebanyak 24.89% mengembalikan barang.*"
      ],
      "metadata": {
        "id": "gXZfSKyt7J9h"
      }
    },
    {
      "cell_type": "code",
      "source": [
        ""
      ],
      "metadata": {
        "id": "Q0v3kQg3XT8h"
      },
      "execution_count": null,
      "outputs": []
    }
  ],
  "metadata": {
    "colab": {
      "name": "Data Mining Cup 2014.ipynb",
      "provenance": [],
      "collapsed_sections": []
    },
    "kernelspec": {
      "display_name": "Python 3",
      "name": "python3"
    },
    "language_info": {
      "name": "python"
    }
  },
  "nbformat": 4,
  "nbformat_minor": 0
}